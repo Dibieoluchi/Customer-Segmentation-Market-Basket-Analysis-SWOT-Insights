{
 "cells": [
  {
   "cell_type": "markdown",
   "id": "aa9229a5",
   "metadata": {},
   "source": [
    "# Project Overview: Analyzing Customer Behavior and Market Trends in a UK-Based Online Retail Company\n",
    "\n",
    "# Objective:\n",
    "The objective of this project is to analyze customer behavior and market trends for a UK-based online retail company specializing in unique all-occasion gifts. Using a transactional dataset spanning from 01/12/2010 to 09/12/2011, the project aims to derive actionable insights to inform strategic decision-making and business growth.\n",
    "\n",
    "# Dataset Information:\n",
    "\n",
    "Transnational Dataset: Contains all transactions occurring within the specified timeframe.\n",
    "Company Profile: The company primarily sells unique all-occasion gifts, with many customers being wholesalers.\n",
    "# Columns:\n",
    "1. InvoiceNo: A 6-digit integral number uniquely assigned to each transaction. If starting with letter 'c', it indicates a cancellation.\n",
    "2. StockCode: A 5-digit integral number uniquely assigned to each distinct product.\n",
    "3. Description: Product name.\n",
    "4. Quantity: The quantities of each product per transaction.\n",
    "5. InvoiceDate: The date and time when each transaction was generated.\n",
    "6. UnitPrice: Product price per unit (in sterling).\n",
    "7. CustomerID: A 5-digit integral number uniquely assigned to each customer.\n",
    "8. Country: The name of the country where each customer resides."
   ]
  },
  {
   "cell_type": "code",
   "execution_count": 1,
   "id": "83682a5c",
   "metadata": {},
   "outputs": [],
   "source": [
    "import pandas as pd\n",
    "import numpy as np\n",
    "import matplotlib.pyplot as plt\n",
    "import seaborn as sns\n",
    "from sklearn.cluster import KMeans  \n",
    "from sklearn.preprocessing import StandardScaler \n",
    "from sklearn.metrics import silhouette_score  \n",
    "from scipy import stats  \n",
    "from mlxtend.frequent_patterns import apriori, association_rules  "
   ]
  },
  {
   "cell_type": "code",
   "execution_count": 2,
   "id": "75a21162",
   "metadata": {},
   "outputs": [],
   "source": [
    "data = pd.read_csv(\"Online Retail.csv\", encoding='latin1')\n",
    "\n"
   ]
  },
  {
   "cell_type": "code",
   "execution_count": 3,
   "id": "87081fac",
   "metadata": {},
   "outputs": [
    {
     "data": {
      "text/html": [
       "<div>\n",
       "<style scoped>\n",
       "    .dataframe tbody tr th:only-of-type {\n",
       "        vertical-align: middle;\n",
       "    }\n",
       "\n",
       "    .dataframe tbody tr th {\n",
       "        vertical-align: top;\n",
       "    }\n",
       "\n",
       "    .dataframe thead th {\n",
       "        text-align: right;\n",
       "    }\n",
       "</style>\n",
       "<table border=\"1\" class=\"dataframe\">\n",
       "  <thead>\n",
       "    <tr style=\"text-align: right;\">\n",
       "      <th></th>\n",
       "      <th>InvoiceNo</th>\n",
       "      <th>StockCode</th>\n",
       "      <th>Description</th>\n",
       "      <th>Quantity</th>\n",
       "      <th>InvoiceDate</th>\n",
       "      <th>UnitPrice</th>\n",
       "      <th>CustomerID</th>\n",
       "      <th>Country</th>\n",
       "    </tr>\n",
       "  </thead>\n",
       "  <tbody>\n",
       "    <tr>\n",
       "      <th>0</th>\n",
       "      <td>536365</td>\n",
       "      <td>85123A</td>\n",
       "      <td>WHITE HANGING HEART T-LIGHT HOLDER</td>\n",
       "      <td>6</td>\n",
       "      <td>1/12/10 8:26</td>\n",
       "      <td>2.55</td>\n",
       "      <td>17850.0</td>\n",
       "      <td>United Kingdom</td>\n",
       "    </tr>\n",
       "    <tr>\n",
       "      <th>1</th>\n",
       "      <td>536365</td>\n",
       "      <td>71053</td>\n",
       "      <td>WHITE METAL LANTERN</td>\n",
       "      <td>6</td>\n",
       "      <td>1/12/10 8:26</td>\n",
       "      <td>3.39</td>\n",
       "      <td>17850.0</td>\n",
       "      <td>United Kingdom</td>\n",
       "    </tr>\n",
       "    <tr>\n",
       "      <th>2</th>\n",
       "      <td>536365</td>\n",
       "      <td>84406B</td>\n",
       "      <td>CREAM CUPID HEARTS COAT HANGER</td>\n",
       "      <td>8</td>\n",
       "      <td>1/12/10 8:26</td>\n",
       "      <td>2.75</td>\n",
       "      <td>17850.0</td>\n",
       "      <td>United Kingdom</td>\n",
       "    </tr>\n",
       "    <tr>\n",
       "      <th>3</th>\n",
       "      <td>536365</td>\n",
       "      <td>84029G</td>\n",
       "      <td>KNITTED UNION FLAG HOT WATER BOTTLE</td>\n",
       "      <td>6</td>\n",
       "      <td>1/12/10 8:26</td>\n",
       "      <td>3.39</td>\n",
       "      <td>17850.0</td>\n",
       "      <td>United Kingdom</td>\n",
       "    </tr>\n",
       "    <tr>\n",
       "      <th>4</th>\n",
       "      <td>536365</td>\n",
       "      <td>84029E</td>\n",
       "      <td>RED WOOLLY HOTTIE WHITE HEART.</td>\n",
       "      <td>6</td>\n",
       "      <td>1/12/10 8:26</td>\n",
       "      <td>3.39</td>\n",
       "      <td>17850.0</td>\n",
       "      <td>United Kingdom</td>\n",
       "    </tr>\n",
       "  </tbody>\n",
       "</table>\n",
       "</div>"
      ],
      "text/plain": [
       "  InvoiceNo StockCode                          Description  Quantity  \\\n",
       "0    536365    85123A   WHITE HANGING HEART T-LIGHT HOLDER         6   \n",
       "1    536365     71053                  WHITE METAL LANTERN         6   \n",
       "2    536365    84406B       CREAM CUPID HEARTS COAT HANGER         8   \n",
       "3    536365    84029G  KNITTED UNION FLAG HOT WATER BOTTLE         6   \n",
       "4    536365    84029E       RED WOOLLY HOTTIE WHITE HEART.         6   \n",
       "\n",
       "    InvoiceDate  UnitPrice  CustomerID         Country  \n",
       "0  1/12/10 8:26       2.55     17850.0  United Kingdom  \n",
       "1  1/12/10 8:26       3.39     17850.0  United Kingdom  \n",
       "2  1/12/10 8:26       2.75     17850.0  United Kingdom  \n",
       "3  1/12/10 8:26       3.39     17850.0  United Kingdom  \n",
       "4  1/12/10 8:26       3.39     17850.0  United Kingdom  "
      ]
     },
     "execution_count": 3,
     "metadata": {},
     "output_type": "execute_result"
    }
   ],
   "source": [
    "data.head()"
   ]
  },
  {
   "cell_type": "code",
   "execution_count": 4,
   "id": "281cb5b8",
   "metadata": {},
   "outputs": [
    {
     "data": {
      "text/html": [
       "<div>\n",
       "<style scoped>\n",
       "    .dataframe tbody tr th:only-of-type {\n",
       "        vertical-align: middle;\n",
       "    }\n",
       "\n",
       "    .dataframe tbody tr th {\n",
       "        vertical-align: top;\n",
       "    }\n",
       "\n",
       "    .dataframe thead th {\n",
       "        text-align: right;\n",
       "    }\n",
       "</style>\n",
       "<table border=\"1\" class=\"dataframe\">\n",
       "  <thead>\n",
       "    <tr style=\"text-align: right;\">\n",
       "      <th></th>\n",
       "      <th>InvoiceNo</th>\n",
       "      <th>StockCode</th>\n",
       "      <th>Description</th>\n",
       "      <th>Quantity</th>\n",
       "      <th>InvoiceDate</th>\n",
       "      <th>UnitPrice</th>\n",
       "      <th>CustomerID</th>\n",
       "      <th>Country</th>\n",
       "    </tr>\n",
       "  </thead>\n",
       "  <tbody>\n",
       "    <tr>\n",
       "      <th>541904</th>\n",
       "      <td>581587</td>\n",
       "      <td>22613</td>\n",
       "      <td>PACK OF 20 SPACEBOY NAPKINS</td>\n",
       "      <td>12</td>\n",
       "      <td>9/12/11 12:50</td>\n",
       "      <td>0.85</td>\n",
       "      <td>12680.0</td>\n",
       "      <td>France</td>\n",
       "    </tr>\n",
       "    <tr>\n",
       "      <th>541905</th>\n",
       "      <td>581587</td>\n",
       "      <td>22899</td>\n",
       "      <td>CHILDREN'S APRON DOLLY GIRL</td>\n",
       "      <td>6</td>\n",
       "      <td>9/12/11 12:50</td>\n",
       "      <td>2.10</td>\n",
       "      <td>12680.0</td>\n",
       "      <td>France</td>\n",
       "    </tr>\n",
       "    <tr>\n",
       "      <th>541906</th>\n",
       "      <td>581587</td>\n",
       "      <td>23254</td>\n",
       "      <td>CHILDRENS CUTLERY DOLLY GIRL</td>\n",
       "      <td>4</td>\n",
       "      <td>9/12/11 12:50</td>\n",
       "      <td>4.15</td>\n",
       "      <td>12680.0</td>\n",
       "      <td>France</td>\n",
       "    </tr>\n",
       "    <tr>\n",
       "      <th>541907</th>\n",
       "      <td>581587</td>\n",
       "      <td>23255</td>\n",
       "      <td>CHILDRENS CUTLERY CIRCUS PARADE</td>\n",
       "      <td>4</td>\n",
       "      <td>9/12/11 12:50</td>\n",
       "      <td>4.15</td>\n",
       "      <td>12680.0</td>\n",
       "      <td>France</td>\n",
       "    </tr>\n",
       "    <tr>\n",
       "      <th>541908</th>\n",
       "      <td>581587</td>\n",
       "      <td>22138</td>\n",
       "      <td>BAKING SET 9 PIECE RETROSPOT</td>\n",
       "      <td>3</td>\n",
       "      <td>9/12/11 12:50</td>\n",
       "      <td>4.95</td>\n",
       "      <td>12680.0</td>\n",
       "      <td>France</td>\n",
       "    </tr>\n",
       "  </tbody>\n",
       "</table>\n",
       "</div>"
      ],
      "text/plain": [
       "       InvoiceNo StockCode                      Description  Quantity  \\\n",
       "541904    581587     22613      PACK OF 20 SPACEBOY NAPKINS        12   \n",
       "541905    581587     22899     CHILDREN'S APRON DOLLY GIRL          6   \n",
       "541906    581587     23254    CHILDRENS CUTLERY DOLLY GIRL          4   \n",
       "541907    581587     23255  CHILDRENS CUTLERY CIRCUS PARADE         4   \n",
       "541908    581587     22138    BAKING SET 9 PIECE RETROSPOT          3   \n",
       "\n",
       "          InvoiceDate  UnitPrice  CustomerID Country  \n",
       "541904  9/12/11 12:50       0.85     12680.0  France  \n",
       "541905  9/12/11 12:50       2.10     12680.0  France  \n",
       "541906  9/12/11 12:50       4.15     12680.0  France  \n",
       "541907  9/12/11 12:50       4.15     12680.0  France  \n",
       "541908  9/12/11 12:50       4.95     12680.0  France  "
      ]
     },
     "execution_count": 4,
     "metadata": {},
     "output_type": "execute_result"
    }
   ],
   "source": [
    "data.tail()"
   ]
  },
  {
   "cell_type": "code",
   "execution_count": 5,
   "id": "d6940ac2",
   "metadata": {},
   "outputs": [
    {
     "data": {
      "text/plain": [
       "(541909, 8)"
      ]
     },
     "execution_count": 5,
     "metadata": {},
     "output_type": "execute_result"
    }
   ],
   "source": [
    "data.shape"
   ]
  },
  {
   "cell_type": "code",
   "execution_count": 6,
   "id": "5b12aa82",
   "metadata": {},
   "outputs": [],
   "source": [
    "# they are 541909 rows and 8 columns in this dataset "
   ]
  },
  {
   "cell_type": "markdown",
   "id": "0855337d",
   "metadata": {},
   "source": [
    "# summary statistics"
   ]
  },
  {
   "cell_type": "code",
   "execution_count": 7,
   "id": "12c3951c",
   "metadata": {},
   "outputs": [
    {
     "data": {
      "text/html": [
       "<div>\n",
       "<style scoped>\n",
       "    .dataframe tbody tr th:only-of-type {\n",
       "        vertical-align: middle;\n",
       "    }\n",
       "\n",
       "    .dataframe tbody tr th {\n",
       "        vertical-align: top;\n",
       "    }\n",
       "\n",
       "    .dataframe thead th {\n",
       "        text-align: right;\n",
       "    }\n",
       "</style>\n",
       "<table border=\"1\" class=\"dataframe\">\n",
       "  <thead>\n",
       "    <tr style=\"text-align: right;\">\n",
       "      <th></th>\n",
       "      <th>Quantity</th>\n",
       "      <th>UnitPrice</th>\n",
       "      <th>CustomerID</th>\n",
       "    </tr>\n",
       "  </thead>\n",
       "  <tbody>\n",
       "    <tr>\n",
       "      <th>count</th>\n",
       "      <td>541909.000000</td>\n",
       "      <td>541909.000000</td>\n",
       "      <td>406829.000000</td>\n",
       "    </tr>\n",
       "    <tr>\n",
       "      <th>mean</th>\n",
       "      <td>9.552250</td>\n",
       "      <td>4.611114</td>\n",
       "      <td>15287.690570</td>\n",
       "    </tr>\n",
       "    <tr>\n",
       "      <th>std</th>\n",
       "      <td>218.081158</td>\n",
       "      <td>96.759853</td>\n",
       "      <td>1713.600303</td>\n",
       "    </tr>\n",
       "    <tr>\n",
       "      <th>min</th>\n",
       "      <td>-80995.000000</td>\n",
       "      <td>-11062.060000</td>\n",
       "      <td>12346.000000</td>\n",
       "    </tr>\n",
       "    <tr>\n",
       "      <th>25%</th>\n",
       "      <td>1.000000</td>\n",
       "      <td>1.250000</td>\n",
       "      <td>13953.000000</td>\n",
       "    </tr>\n",
       "    <tr>\n",
       "      <th>50%</th>\n",
       "      <td>3.000000</td>\n",
       "      <td>2.080000</td>\n",
       "      <td>15152.000000</td>\n",
       "    </tr>\n",
       "    <tr>\n",
       "      <th>75%</th>\n",
       "      <td>10.000000</td>\n",
       "      <td>4.130000</td>\n",
       "      <td>16791.000000</td>\n",
       "    </tr>\n",
       "    <tr>\n",
       "      <th>max</th>\n",
       "      <td>80995.000000</td>\n",
       "      <td>38970.000000</td>\n",
       "      <td>18287.000000</td>\n",
       "    </tr>\n",
       "  </tbody>\n",
       "</table>\n",
       "</div>"
      ],
      "text/plain": [
       "            Quantity      UnitPrice     CustomerID\n",
       "count  541909.000000  541909.000000  406829.000000\n",
       "mean        9.552250       4.611114   15287.690570\n",
       "std       218.081158      96.759853    1713.600303\n",
       "min    -80995.000000  -11062.060000   12346.000000\n",
       "25%         1.000000       1.250000   13953.000000\n",
       "50%         3.000000       2.080000   15152.000000\n",
       "75%        10.000000       4.130000   16791.000000\n",
       "max     80995.000000   38970.000000   18287.000000"
      ]
     },
     "execution_count": 7,
     "metadata": {},
     "output_type": "execute_result"
    }
   ],
   "source": [
    "data.describe()"
   ]
  },
  {
   "cell_type": "code",
   "execution_count": 8,
   "id": "cfe359c1",
   "metadata": {},
   "outputs": [
    {
     "name": "stdout",
     "output_type": "stream",
     "text": [
      "Number of negative values in quanity ordered: 10624\n"
     ]
    }
   ],
   "source": [
    "# Check for negative values\n",
    "negative_values = data [data ['Quantity'] < 0]\n",
    "print(\"Number of negative values in quanity ordered:\", len(negative_values))\n"
   ]
  },
  {
   "cell_type": "code",
   "execution_count": 9,
   "id": "7e6c88ae",
   "metadata": {},
   "outputs": [
    {
     "name": "stdout",
     "output_type": "stream",
     "text": [
      "Number of negative values in unit price : 2\n"
     ]
    }
   ],
   "source": [
    "# Check for negative values\n",
    "negative_values = data [data ['UnitPrice'] < 0]\n",
    "print(\"Number of negative values in unit price :\", len(negative_values))"
   ]
  },
  {
   "cell_type": "code",
   "execution_count": 91,
   "id": "2323ebb9",
   "metadata": {},
   "outputs": [
    {
     "data": {
      "image/png": "[encoded data removed]",
      "text/plain": [
       "<Figure size 576x432 with 1 Axes>"
      ]
     },
     "metadata": {
      "needs_background": "light"
     },
     "output_type": "display_data"
    },
    {
     "data": {
      "text/plain": [
       "<Figure size 432x288 with 0 Axes>"
      ]
     },
     "metadata": {},
     "output_type": "display_data"
    }
   ],
   "source": [
    "# Plot distribution of Quantity\n",
    "plt.figure(figsize=(8, 6))\n",
    "sns.histplot(data['Quantity'], bins=50, kde=True)\n",
    "plt.ylabel('Frequency',  color = 'Blue')\n",
    "plt.title('Distribution of Quantity',)\n",
    "plt.xlabel('Quantity', color = 'Blue')\n",
    "plt.ylabel('Frequency',  color = 'Blue')\n",
    "plt.grid(True)\n",
    "plt.tight_layout()\n",
    "plt.show()\n",
    "# Save the plot to a file\n",
    "plt.savefig('plot.png')\n",
    "\n"
   ]
  },
  {
   "cell_type": "code",
   "execution_count": 86,
   "id": "16ddaea0",
   "metadata": {},
   "outputs": [
    {
     "data": {
      "image/png": "[encoded data removed]",
      "text/plain": [
       "<Figure size 576x432 with 1 Axes>"
      ]
     },
     "metadata": {
      "needs_background": "light"
     },
     "output_type": "display_data"
    }
   ],
   "source": [
    "# Plot distribution of UnitPrice\n",
    "# Increase figure size\n",
    "plt.figure(figsize=(8, 6))\n",
    "plt.grid(True)\n",
    "sns.histplot(data['UnitPrice'], bins=50, kde=True)\n",
    "plt.title('Distribution of UnitPrice')\n",
    "plt.xlabel('UnitPrice')\n",
    "plt.ylabel('Frequency')\n",
    "plt.show()"
   ]
  },
  {
   "cell_type": "markdown",
   "id": "321e3abb",
   "metadata": {},
   "source": [
    "# Quantity:\n",
    "\n",
    "The mean quantity of items purchased per transaction is around 9.55, with a standard deviation of approximately 218, This indicates a wide variation in the quantity of items purchased per transaction.\n",
    "\n",
    "The minimum quantity is -80995, indicating product returns or cancellations, and the maximum quantity is 80995.\n",
    "25% of the transactions involve quantities of 1 or less, while 75% involve quantities of 10 or less.\n",
    "\n",
    "# UnitPrice:\n",
    "\n",
    "The mean unit price of items is about £4.61, with a standard deviation of approximately £96.76,This suggests a wide range of prices for the items sold by the company.\n",
    "\n",
    "The minimum unit price is £0, and the maximum unit price is £38970.\n",
    "25% of the items have a unit price of £1.25 or less, while 75% have a unit price of £4.13 or less.\n",
    "\n",
    "# Negative Values:\n",
    "There are transactions with negative values in the Quantity column, which typically represent product returns or cancellations. These negative values are important to consider, as they affect revenue and can provide insights into customer behavior and satisfaction.\n",
    "\n",
    "# CustomerID Insights:\n",
    "\n",
    "The number of non-null values for CustomerID is lower (406,829) compared to the other columns (541,909). This indicates missing values in the CustomerID column\n",
    "\n",
    "# Plots:\n",
    "# Distribution of Quantity:\n",
    "\n",
    "The histogram shows that most transactions involve smaller quantities, with a right-skewed distribution.\n",
    "The peak around 0 indicates a significant number of transactions with negative quantities, likely representing returns or cancellations.\n",
    "# Distribution of UnitPrice:\n",
    "\n",
    "The histogram displays the distribution of unit prices, showing a right-skewed distribution with a peak around lower values.\n",
    "There might be a few outliers with very high unit prices, as indicated by the long tail towards the higher prices."
   ]
  },
  {
   "cell_type": "code",
   "execution_count": 12,
   "id": "b628e280",
   "metadata": {},
   "outputs": [
    {
     "name": "stdout",
     "output_type": "stream",
     "text": [
      "Check if we had negative quantity ordered  and  unit prices at the same time in our table: No \n",
      "\n"
     ]
    }
   ],
   "source": [
    "print('Check if we had negative quantity ordered  and  unit prices at the same time in our table:',\n",
    "     'No' if data[(data.Quantity<0) & (data.UnitPrice<0)].shape[0] == 0 else 'Yes', '\\n')"
   ]
  },
  {
   "cell_type": "code",
   "execution_count": 13,
   "id": "2f64ffb8",
   "metadata": {},
   "outputs": [
    {
     "name": "stdout",
     "output_type": "stream",
     "text": [
      "Check how many rows  we have where quantity is negative and unit prices is 0 or vice-versa: 1336\n"
     ]
    }
   ],
   "source": [
    "print('Check how many rows  we have where quantity is negative',\n",
    "      'and unit prices is 0 or vice-versa:',\n",
    "      data[(data.Quantity<=0) & (data.UnitPrice<=0)].shape[0])"
   ]
  },
  {
   "cell_type": "code",
   "execution_count": 14,
   "id": "9bcda537",
   "metadata": {},
   "outputs": [
    {
     "name": "stdout",
     "output_type": "stream",
     "text": [
      "\n",
      "What is the customer ID of the  the customer with either negative quantity ordered or nagative unit price : [nan]\n"
     ]
    }
   ],
   "source": [
    "print('\\nWhat is the customer ID of the  the customer with either negative quantity ordered or nagative unit price :',\n",
    "      data.loc[(data.Quantity<=0) & (data.UnitPrice<=0), \n",
    "                ['CustomerID']].CustomerID.unique())\n"
   ]
  },
  {
   "cell_type": "markdown",
   "id": "82463ad5",
   "metadata": {},
   "source": [
    "based on the provided information,the  rows with negative values in both quantity and unit price do not have a corresponding Customer ID. This suggests that these rows may be incomplete or corrupted data entries, as they lack a crucial identifier (Customer ID) for associating the transaction with a specific customer. Therefore, when cleaning the data, i choose to remove  these rows separately considering the absence of a Customer ID."
   ]
  },
  {
   "cell_type": "markdown",
   "id": "067ad7cf",
   "metadata": {},
   "source": [
    "# Data cleaning "
   ]
  },
  {
   "cell_type": "code",
   "execution_count": 15,
   "id": "d01c89a3",
   "metadata": {},
   "outputs": [],
   "source": [
    "# Filter out transactions with negative quantities\n",
    "data_clean = data[(data.Quantity > 0) & (data.UnitPrice > 0)]\n"
   ]
  },
  {
   "cell_type": "code",
   "execution_count": 16,
   "id": "146e8a9a",
   "metadata": {},
   "outputs": [
    {
     "data": {
      "text/plain": [
       "InvoiceNo           0\n",
       "StockCode           0\n",
       "Description         0\n",
       "Quantity            0\n",
       "InvoiceDate         0\n",
       "UnitPrice           0\n",
       "CustomerID     132220\n",
       "Country             0\n",
       "dtype: int64"
      ]
     },
     "execution_count": 16,
     "metadata": {},
     "output_type": "execute_result"
    }
   ],
   "source": [
    "data_clean.isnull().sum()"
   ]
  },
  {
   "cell_type": "code",
   "execution_count": 17,
   "id": "2633c734",
   "metadata": {},
   "outputs": [],
   "source": [
    "data_clean = data_clean[~(data_clean.CustomerID.isnull())]"
   ]
  },
  {
   "cell_type": "code",
   "execution_count": 18,
   "id": "f92209b8",
   "metadata": {},
   "outputs": [
    {
     "data": {
      "text/plain": [
       "InvoiceNo      0\n",
       "StockCode      0\n",
       "Description    0\n",
       "Quantity       0\n",
       "InvoiceDate    0\n",
       "UnitPrice      0\n",
       "CustomerID     0\n",
       "Country        0\n",
       "dtype: int64"
      ]
     },
     "execution_count": 18,
     "metadata": {},
     "output_type": "execute_result"
    }
   ],
   "source": [
    "data_clean.isnull().sum()"
   ]
  },
  {
   "cell_type": "code",
   "execution_count": 19,
   "id": "d0a6753e",
   "metadata": {},
   "outputs": [],
   "source": [
    "# Convert InvoiceDate to datetime\n",
    "data_clean['InvoiceDate'] = pd.to_datetime(data_clean['InvoiceDate'])"
   ]
  },
  {
   "cell_type": "code",
   "execution_count": 20,
   "id": "afa8f672",
   "metadata": {},
   "outputs": [
    {
     "data": {
      "text/html": [
       "<div>\n",
       "<style scoped>\n",
       "    .dataframe tbody tr th:only-of-type {\n",
       "        vertical-align: middle;\n",
       "    }\n",
       "\n",
       "    .dataframe tbody tr th {\n",
       "        vertical-align: top;\n",
       "    }\n",
       "\n",
       "    .dataframe thead th {\n",
       "        text-align: right;\n",
       "    }\n",
       "</style>\n",
       "<table border=\"1\" class=\"dataframe\">\n",
       "  <thead>\n",
       "    <tr style=\"text-align: right;\">\n",
       "      <th></th>\n",
       "      <th>Quantity</th>\n",
       "      <th>UnitPrice</th>\n",
       "      <th>CustomerID</th>\n",
       "    </tr>\n",
       "  </thead>\n",
       "  <tbody>\n",
       "    <tr>\n",
       "      <th>count</th>\n",
       "      <td>397884.000000</td>\n",
       "      <td>397884.000000</td>\n",
       "      <td>397884.000000</td>\n",
       "    </tr>\n",
       "    <tr>\n",
       "      <th>mean</th>\n",
       "      <td>12.988238</td>\n",
       "      <td>3.116488</td>\n",
       "      <td>15294.423453</td>\n",
       "    </tr>\n",
       "    <tr>\n",
       "      <th>std</th>\n",
       "      <td>179.331775</td>\n",
       "      <td>22.097877</td>\n",
       "      <td>1713.141560</td>\n",
       "    </tr>\n",
       "    <tr>\n",
       "      <th>min</th>\n",
       "      <td>1.000000</td>\n",
       "      <td>0.001000</td>\n",
       "      <td>12346.000000</td>\n",
       "    </tr>\n",
       "    <tr>\n",
       "      <th>25%</th>\n",
       "      <td>2.000000</td>\n",
       "      <td>1.250000</td>\n",
       "      <td>13969.000000</td>\n",
       "    </tr>\n",
       "    <tr>\n",
       "      <th>50%</th>\n",
       "      <td>6.000000</td>\n",
       "      <td>1.950000</td>\n",
       "      <td>15159.000000</td>\n",
       "    </tr>\n",
       "    <tr>\n",
       "      <th>75%</th>\n",
       "      <td>12.000000</td>\n",
       "      <td>3.750000</td>\n",
       "      <td>16795.000000</td>\n",
       "    </tr>\n",
       "    <tr>\n",
       "      <th>max</th>\n",
       "      <td>80995.000000</td>\n",
       "      <td>8142.750000</td>\n",
       "      <td>18287.000000</td>\n",
       "    </tr>\n",
       "  </tbody>\n",
       "</table>\n",
       "</div>"
      ],
      "text/plain": [
       "            Quantity      UnitPrice     CustomerID\n",
       "count  397884.000000  397884.000000  397884.000000\n",
       "mean       12.988238       3.116488   15294.423453\n",
       "std       179.331775      22.097877    1713.141560\n",
       "min         1.000000       0.001000   12346.000000\n",
       "25%         2.000000       1.250000   13969.000000\n",
       "50%         6.000000       1.950000   15159.000000\n",
       "75%        12.000000       3.750000   16795.000000\n",
       "max     80995.000000    8142.750000   18287.000000"
      ]
     },
     "execution_count": 20,
     "metadata": {},
     "output_type": "execute_result"
    }
   ],
   "source": [
    "data_clean.describe()\n",
    "\n"
   ]
  },
  {
   "cell_type": "code",
   "execution_count": 21,
   "id": "d9742eee",
   "metadata": {},
   "outputs": [
    {
     "data": {
      "image/png": "[encoded data removed]",
      "text/plain": [
       "<Figure size 432x432 with 1 Axes>"
      ]
     },
     "metadata": {
      "needs_background": "light"
     },
     "output_type": "display_data"
    }
   ],
   "source": [
    "# Plot distribution of Quantity in the cleaned dataset\n",
    "plt.figure(figsize=(6, 6))\n",
    "plt.grid(True)\n",
    "sns.histplot(data_clean['Quantity'], bins=50, kde=True)\n",
    "plt.title('Distribution of Quantity (Cleaned)')\n",
    "plt.xlabel('Quantity')\n",
    "plt.ylabel('Frequency')\n",
    "plt.show()"
   ]
  },
  {
   "cell_type": "markdown",
   "id": "a7e624ba",
   "metadata": {},
   "source": [
    "# Quantity:\n",
    "The mean quantity of items purchased per transaction is approximately 12.99, with a standard deviation of around 179.33.\n",
    "The minimum quantity is 1, indicating the lowest quantity of items purchased in a single transaction after removing negative quantities.\n",
    "The maximum quantity is 80995, which remains unchanged from the original dataset.\n",
    "25% of the transactions involve quantities of 2 or less, while 75% involve quantities of 12 or less.\n",
    "\n",
    "# UnitPrice:\n",
    "The mean unit price of items is roughly £3.12, with a standard deviation of approximately £22.10.\n",
    "The minimum unit price is £0.001, indicating the lowest unit price of items after removing negative prices.\n",
    "The maximum unit price is £8142.75, which remains unchanged from the original dataset.\n",
    "25% of the items have a unit price of £1.25 or less, while 75% have a unit price of £3.75 or less.\n",
    "\n",
    "# Distribution of Quantity:\n",
    "The histogram displays the distribution of quantities in the cleaned dataset.\n",
    "With negative quantities removed, the distribution appears to be more focused on positive values, as expected.\n",
    "There might still be a few transactions with very high quantities, as indicated by the long tail towards higher quantities.\n",
    "\n",
    "Overall, after filtering out transactions with negative quantities, the summary statistics and distribution of quantities remain largely similar, ensuring that no valid information is lost while addressing the issue of negative values in the dataset."
   ]
  },
  {
   "cell_type": "code",
   "execution_count": 22,
   "id": "6b48f404",
   "metadata": {},
   "outputs": [
    {
     "name": "stdout",
     "output_type": "stream",
     "text": [
      "<class 'pandas.core.frame.DataFrame'>\n",
      "Int64Index: 397884 entries, 0 to 541908\n",
      "Data columns (total 8 columns):\n",
      " #   Column       Non-Null Count   Dtype         \n",
      "---  ------       --------------   -----         \n",
      " 0   InvoiceNo    397884 non-null  object        \n",
      " 1   StockCode    397884 non-null  object        \n",
      " 2   Description  397884 non-null  object        \n",
      " 3   Quantity     397884 non-null  int64         \n",
      " 4   InvoiceDate  397884 non-null  datetime64[ns]\n",
      " 5   UnitPrice    397884 non-null  float64       \n",
      " 6   CustomerID   397884 non-null  float64       \n",
      " 7   Country      397884 non-null  object        \n",
      "dtypes: datetime64[ns](1), float64(2), int64(1), object(4)\n",
      "memory usage: 27.3+ MB\n"
     ]
    }
   ],
   "source": [
    "data_clean.info()"
   ]
  },
  {
   "cell_type": "code",
   "execution_count": 23,
   "id": "43c501ff",
   "metadata": {},
   "outputs": [],
   "source": [
    "cat_des_df = data_clean.groupby([\"StockCode\",\"Description\"]).count().reset_index()\n"
   ]
  },
  {
   "cell_type": "code",
   "execution_count": 24,
   "id": "3cd363db",
   "metadata": {},
   "outputs": [
    {
     "data": {
      "text/html": [
       "<div>\n",
       "<style scoped>\n",
       "    .dataframe tbody tr th:only-of-type {\n",
       "        vertical-align: middle;\n",
       "    }\n",
       "\n",
       "    .dataframe tbody tr th {\n",
       "        vertical-align: top;\n",
       "    }\n",
       "\n",
       "    .dataframe thead th {\n",
       "        text-align: right;\n",
       "    }\n",
       "</style>\n",
       "<table border=\"1\" class=\"dataframe\">\n",
       "  <thead>\n",
       "    <tr style=\"text-align: right;\">\n",
       "      <th></th>\n",
       "      <th>StockCode</th>\n",
       "      <th>Description</th>\n",
       "      <th>InvoiceNo</th>\n",
       "      <th>Quantity</th>\n",
       "      <th>InvoiceDate</th>\n",
       "      <th>UnitPrice</th>\n",
       "      <th>CustomerID</th>\n",
       "      <th>Country</th>\n",
       "    </tr>\n",
       "  </thead>\n",
       "  <tbody>\n",
       "    <tr>\n",
       "      <th>0</th>\n",
       "      <td>10002</td>\n",
       "      <td>INFLATABLE POLITICAL GLOBE</td>\n",
       "      <td>49</td>\n",
       "      <td>49</td>\n",
       "      <td>49</td>\n",
       "      <td>49</td>\n",
       "      <td>49</td>\n",
       "      <td>49</td>\n",
       "    </tr>\n",
       "    <tr>\n",
       "      <th>1</th>\n",
       "      <td>10080</td>\n",
       "      <td>GROOVY CACTUS INFLATABLE</td>\n",
       "      <td>21</td>\n",
       "      <td>21</td>\n",
       "      <td>21</td>\n",
       "      <td>21</td>\n",
       "      <td>21</td>\n",
       "      <td>21</td>\n",
       "    </tr>\n",
       "    <tr>\n",
       "      <th>2</th>\n",
       "      <td>10120</td>\n",
       "      <td>DOGGY RUBBER</td>\n",
       "      <td>30</td>\n",
       "      <td>30</td>\n",
       "      <td>30</td>\n",
       "      <td>30</td>\n",
       "      <td>30</td>\n",
       "      <td>30</td>\n",
       "    </tr>\n",
       "    <tr>\n",
       "      <th>3</th>\n",
       "      <td>10123C</td>\n",
       "      <td>HEARTS WRAPPING TAPE</td>\n",
       "      <td>3</td>\n",
       "      <td>3</td>\n",
       "      <td>3</td>\n",
       "      <td>3</td>\n",
       "      <td>3</td>\n",
       "      <td>3</td>\n",
       "    </tr>\n",
       "    <tr>\n",
       "      <th>4</th>\n",
       "      <td>10124A</td>\n",
       "      <td>SPOTS ON RED BOOKCOVER TAPE</td>\n",
       "      <td>5</td>\n",
       "      <td>5</td>\n",
       "      <td>5</td>\n",
       "      <td>5</td>\n",
       "      <td>5</td>\n",
       "      <td>5</td>\n",
       "    </tr>\n",
       "    <tr>\n",
       "      <th>...</th>\n",
       "      <td>...</td>\n",
       "      <td>...</td>\n",
       "      <td>...</td>\n",
       "      <td>...</td>\n",
       "      <td>...</td>\n",
       "      <td>...</td>\n",
       "      <td>...</td>\n",
       "      <td>...</td>\n",
       "    </tr>\n",
       "    <tr>\n",
       "      <th>3892</th>\n",
       "      <td>C2</td>\n",
       "      <td>CARRIAGE</td>\n",
       "      <td>133</td>\n",
       "      <td>133</td>\n",
       "      <td>133</td>\n",
       "      <td>133</td>\n",
       "      <td>133</td>\n",
       "      <td>133</td>\n",
       "    </tr>\n",
       "    <tr>\n",
       "      <th>3893</th>\n",
       "      <td>DOT</td>\n",
       "      <td>DOTCOM POSTAGE</td>\n",
       "      <td>16</td>\n",
       "      <td>16</td>\n",
       "      <td>16</td>\n",
       "      <td>16</td>\n",
       "      <td>16</td>\n",
       "      <td>16</td>\n",
       "    </tr>\n",
       "    <tr>\n",
       "      <th>3894</th>\n",
       "      <td>M</td>\n",
       "      <td>Manual</td>\n",
       "      <td>284</td>\n",
       "      <td>284</td>\n",
       "      <td>284</td>\n",
       "      <td>284</td>\n",
       "      <td>284</td>\n",
       "      <td>284</td>\n",
       "    </tr>\n",
       "    <tr>\n",
       "      <th>3895</th>\n",
       "      <td>PADS</td>\n",
       "      <td>PADS TO MATCH ALL CUSHIONS</td>\n",
       "      <td>3</td>\n",
       "      <td>3</td>\n",
       "      <td>3</td>\n",
       "      <td>3</td>\n",
       "      <td>3</td>\n",
       "      <td>3</td>\n",
       "    </tr>\n",
       "    <tr>\n",
       "      <th>3896</th>\n",
       "      <td>POST</td>\n",
       "      <td>POSTAGE</td>\n",
       "      <td>1099</td>\n",
       "      <td>1099</td>\n",
       "      <td>1099</td>\n",
       "      <td>1099</td>\n",
       "      <td>1099</td>\n",
       "      <td>1099</td>\n",
       "    </tr>\n",
       "  </tbody>\n",
       "</table>\n",
       "<p>3897 rows × 8 columns</p>\n",
       "</div>"
      ],
      "text/plain": [
       "     StockCode                  Description  InvoiceNo  Quantity  InvoiceDate  \\\n",
       "0        10002  INFLATABLE POLITICAL GLOBE          49        49           49   \n",
       "1        10080     GROOVY CACTUS INFLATABLE         21        21           21   \n",
       "2        10120                 DOGGY RUBBER         30        30           30   \n",
       "3       10123C        HEARTS WRAPPING TAPE           3         3            3   \n",
       "4       10124A  SPOTS ON RED BOOKCOVER TAPE          5         5            5   \n",
       "...        ...                          ...        ...       ...          ...   \n",
       "3892        C2                     CARRIAGE        133       133          133   \n",
       "3893       DOT               DOTCOM POSTAGE         16        16           16   \n",
       "3894         M                       Manual        284       284          284   \n",
       "3895      PADS   PADS TO MATCH ALL CUSHIONS          3         3            3   \n",
       "3896      POST                      POSTAGE       1099      1099         1099   \n",
       "\n",
       "      UnitPrice  CustomerID  Country  \n",
       "0            49          49       49  \n",
       "1            21          21       21  \n",
       "2            30          30       30  \n",
       "3             3           3        3  \n",
       "4             5           5        5  \n",
       "...         ...         ...      ...  \n",
       "3892        133         133      133  \n",
       "3893         16          16       16  \n",
       "3894        284         284      284  \n",
       "3895          3           3        3  \n",
       "3896       1099        1099     1099  \n",
       "\n",
       "[3897 rows x 8 columns]"
      ]
     },
     "execution_count": 24,
     "metadata": {},
     "output_type": "execute_result"
    }
   ],
   "source": [
    "cat_des_df"
   ]
  },
  {
   "cell_type": "code",
   "execution_count": 25,
   "id": "b02a89d7",
   "metadata": {},
   "outputs": [],
   "source": [
    "duplicate_stockcodes = cat_des_df.StockCode.value_counts()[cat_des_df.StockCode.value_counts()>1].reset_index().head()\n"
   ]
  },
  {
   "cell_type": "code",
   "execution_count": 26,
   "id": "39d089bf",
   "metadata": {},
   "outputs": [
    {
     "data": {
      "text/html": [
       "<div>\n",
       "<style scoped>\n",
       "    .dataframe tbody tr th:only-of-type {\n",
       "        vertical-align: middle;\n",
       "    }\n",
       "\n",
       "    .dataframe tbody tr th {\n",
       "        vertical-align: top;\n",
       "    }\n",
       "\n",
       "    .dataframe thead th {\n",
       "        text-align: right;\n",
       "    }\n",
       "</style>\n",
       "<table border=\"1\" class=\"dataframe\">\n",
       "  <thead>\n",
       "    <tr style=\"text-align: right;\">\n",
       "      <th></th>\n",
       "      <th>index</th>\n",
       "      <th>StockCode</th>\n",
       "    </tr>\n",
       "  </thead>\n",
       "  <tbody>\n",
       "    <tr>\n",
       "      <th>0</th>\n",
       "      <td>23196</td>\n",
       "      <td>4</td>\n",
       "    </tr>\n",
       "    <tr>\n",
       "      <th>1</th>\n",
       "      <td>23236</td>\n",
       "      <td>4</td>\n",
       "    </tr>\n",
       "    <tr>\n",
       "      <th>2</th>\n",
       "      <td>22776</td>\n",
       "      <td>3</td>\n",
       "    </tr>\n",
       "    <tr>\n",
       "      <th>3</th>\n",
       "      <td>17107D</td>\n",
       "      <td>3</td>\n",
       "    </tr>\n",
       "    <tr>\n",
       "      <th>4</th>\n",
       "      <td>23231</td>\n",
       "      <td>3</td>\n",
       "    </tr>\n",
       "  </tbody>\n",
       "</table>\n",
       "</div>"
      ],
      "text/plain": [
       "    index  StockCode\n",
       "0   23196          4\n",
       "1   23236          4\n",
       "2   22776          3\n",
       "3  17107D          3\n",
       "4   23231          3"
      ]
     },
     "execution_count": 26,
     "metadata": {},
     "output_type": "execute_result"
    }
   ],
   "source": [
    "duplicate_stockcodes"
   ]
  },
  {
   "cell_type": "markdown",
   "id": "224bb632",
   "metadata": {},
   "source": [
    "StockCode '23196' appears four times in this  dataset.\n",
    "StockCode '23236' also appears four times.\n",
    "StockCode '23244' appears three times.\n",
    "StockCode '23126' appears three times.\n",
    "StockCode '23396' appears three times."
   ]
  },
  {
   "cell_type": "code",
   "execution_count": 27,
   "id": "77842f14",
   "metadata": {},
   "outputs": [
    {
     "name": "stdout",
     "output_type": "stream",
     "text": [
      "['DOILEY STORAGE TIN' 'DOILEY BISCUIT TIN' 'STORAGE TIN VINTAGE DOILY '\n",
      " 'STORAGE TIN VINTAGE DOILEY ']\n"
     ]
    }
   ],
   "source": [
    "specific_stockcode = '23236'\n",
    "unique_descriptions = data_clean[data_clean['StockCode'] == specific_stockcode]['Description'].unique()\n",
    "print(unique_descriptions)\n"
   ]
  },
  {
   "cell_type": "code",
   "execution_count": 28,
   "id": "36795f25",
   "metadata": {},
   "outputs": [
    {
     "name": "stdout",
     "output_type": "stream",
     "text": [
      "['RETRO LEAVES MAGNETIC NOTEPAD' 'RETO LEAVES MAGNETIC SHOPPING LIST'\n",
      " 'LEAVES MAGNETIC  SHOPPING LIST' 'VINTAGE LEAF MAGNETIC NOTEPAD']\n"
     ]
    }
   ],
   "source": [
    "specific_stockcode = '23196'\n",
    "unique_descriptions = data_clean[data_clean['StockCode'] == specific_stockcode]['Description'].unique()\n",
    "print(unique_descriptions)\n"
   ]
  },
  {
   "cell_type": "code",
   "execution_count": 29,
   "id": "8f6c14fa",
   "metadata": {},
   "outputs": [
    {
     "name": "stdout",
     "output_type": "stream",
     "text": [
      "['ROUND STORAGE TIN VINTAGE LEAF' 'STORAGE TIN VINTAGE LEAF'\n",
      " 'CANNISTER VINTAGE LEAF DESIGN']\n"
     ]
    }
   ],
   "source": [
    "specific_stockcode = '23244'\n",
    "unique_descriptions = data_clean[data_clean['StockCode'] == specific_stockcode]['Description'].unique()\n",
    "print(unique_descriptions)\n"
   ]
  },
  {
   "cell_type": "code",
   "execution_count": 30,
   "id": "f93a5997",
   "metadata": {},
   "outputs": [
    {
     "name": "stdout",
     "output_type": "stream",
     "text": [
      "['DOLLCRAFT GIRL AMELIE KIT' 'FELTCRAFT GIRL AMELIE KIT'\n",
      " 'DOLLCRAFT GIRL AMELIE']\n"
     ]
    }
   ],
   "source": [
    "specific_stockcode = '23126'\n",
    "unique_descriptions = data_clean[data_clean['StockCode'] == specific_stockcode]['Description'].unique()\n",
    "print(unique_descriptions)\n"
   ]
  },
  {
   "cell_type": "code",
   "execution_count": 31,
   "id": "31a7bca8",
   "metadata": {},
   "outputs": [
    {
     "name": "stdout",
     "output_type": "stream",
     "text": [
      "['BUTTERFLY CUSHION COVER' 'LA JARDIN BOTANIQUE CUSHION COVER'\n",
      " 'LE JARDIN BOTANIQUE CUSHION COVER']\n"
     ]
    }
   ],
   "source": [
    "specific_stockcode = '23396'\n",
    "unique_descriptions = data_clean[data_clean['StockCode'] == specific_stockcode]['Description'].unique()\n",
    "print(unique_descriptions)\n"
   ]
  },
  {
   "cell_type": "markdown",
   "id": "2f84a70d",
   "metadata": {},
   "source": [
    "WE CAN SEE THAT FOR SOME OF THIS STOCKS THEIR DUPLICAT OCCURENCE CAN BE AS A RESULT OF SPELLING ERROR , WHICH OBVIOUSLY AFFECTS THE QUALITY AND INTERGRITY OF THE DATA "
   ]
  },
  {
   "cell_type": "code",
   "execution_count": 32,
   "id": "c8d4a5c8",
   "metadata": {},
   "outputs": [
    {
     "name": "stdout",
     "output_type": "stream",
     "text": [
      "  StockCode                  Description\n",
      "0     10002  INFLATABLE POLITICAL GLOBE \n",
      "1     10080     GROOVY CACTUS INFLATABLE\n",
      "2     10120                 DOGGY RUBBER\n",
      "3    10123C        HEARTS WRAPPING TAPE \n",
      "4    10124A  SPOTS ON RED BOOKCOVER TAPE\n"
     ]
    }
   ],
   "source": [
    "# Step 1: Find the mode description for each stock code\n",
    "unique_desc = data_clean.groupby('StockCode')['Description'].agg(pd.Series.mode).reset_index()\n",
    "\n",
    "#Check the unique_desc DataFrame\n",
    "print(unique_desc.head())"
   ]
  },
  {
   "cell_type": "code",
   "execution_count": 33,
   "id": "c0ff701d",
   "metadata": {},
   "outputs": [],
   "source": [
    "# Step 2: Merge the original DataFrame with the mode description based on the stock code\n",
    "data_clean = pd.merge(data_clean, unique_desc, on='StockCode', suffixes=('', '_Mode'))"
   ]
  },
  {
   "cell_type": "code",
   "execution_count": 34,
   "id": "3b8c6c8b",
   "metadata": {},
   "outputs": [
    {
     "data": {
      "text/html": [
       "<div>\n",
       "<style scoped>\n",
       "    .dataframe tbody tr th:only-of-type {\n",
       "        vertical-align: middle;\n",
       "    }\n",
       "\n",
       "    .dataframe tbody tr th {\n",
       "        vertical-align: top;\n",
       "    }\n",
       "\n",
       "    .dataframe thead th {\n",
       "        text-align: right;\n",
       "    }\n",
       "</style>\n",
       "<table border=\"1\" class=\"dataframe\">\n",
       "  <thead>\n",
       "    <tr style=\"text-align: right;\">\n",
       "      <th></th>\n",
       "      <th>InvoiceNo</th>\n",
       "      <th>StockCode</th>\n",
       "      <th>Description</th>\n",
       "      <th>Quantity</th>\n",
       "      <th>InvoiceDate</th>\n",
       "      <th>UnitPrice</th>\n",
       "      <th>CustomerID</th>\n",
       "      <th>Country</th>\n",
       "      <th>Description_Mode</th>\n",
       "    </tr>\n",
       "  </thead>\n",
       "  <tbody>\n",
       "    <tr>\n",
       "      <th>0</th>\n",
       "      <td>536365</td>\n",
       "      <td>85123A</td>\n",
       "      <td>WHITE HANGING HEART T-LIGHT HOLDER</td>\n",
       "      <td>6</td>\n",
       "      <td>2010-01-12 08:26:00</td>\n",
       "      <td>2.55</td>\n",
       "      <td>17850.0</td>\n",
       "      <td>United Kingdom</td>\n",
       "      <td>WHITE HANGING HEART T-LIGHT HOLDER</td>\n",
       "    </tr>\n",
       "    <tr>\n",
       "      <th>1</th>\n",
       "      <td>536373</td>\n",
       "      <td>85123A</td>\n",
       "      <td>WHITE HANGING HEART T-LIGHT HOLDER</td>\n",
       "      <td>6</td>\n",
       "      <td>2010-01-12 09:02:00</td>\n",
       "      <td>2.55</td>\n",
       "      <td>17850.0</td>\n",
       "      <td>United Kingdom</td>\n",
       "      <td>WHITE HANGING HEART T-LIGHT HOLDER</td>\n",
       "    </tr>\n",
       "    <tr>\n",
       "      <th>2</th>\n",
       "      <td>536375</td>\n",
       "      <td>85123A</td>\n",
       "      <td>WHITE HANGING HEART T-LIGHT HOLDER</td>\n",
       "      <td>6</td>\n",
       "      <td>2010-01-12 09:32:00</td>\n",
       "      <td>2.55</td>\n",
       "      <td>17850.0</td>\n",
       "      <td>United Kingdom</td>\n",
       "      <td>WHITE HANGING HEART T-LIGHT HOLDER</td>\n",
       "    </tr>\n",
       "    <tr>\n",
       "      <th>3</th>\n",
       "      <td>536390</td>\n",
       "      <td>85123A</td>\n",
       "      <td>WHITE HANGING HEART T-LIGHT HOLDER</td>\n",
       "      <td>64</td>\n",
       "      <td>2010-01-12 10:19:00</td>\n",
       "      <td>2.55</td>\n",
       "      <td>17511.0</td>\n",
       "      <td>United Kingdom</td>\n",
       "      <td>WHITE HANGING HEART T-LIGHT HOLDER</td>\n",
       "    </tr>\n",
       "    <tr>\n",
       "      <th>4</th>\n",
       "      <td>536394</td>\n",
       "      <td>85123A</td>\n",
       "      <td>WHITE HANGING HEART T-LIGHT HOLDER</td>\n",
       "      <td>32</td>\n",
       "      <td>2010-01-12 10:39:00</td>\n",
       "      <td>2.55</td>\n",
       "      <td>13408.0</td>\n",
       "      <td>United Kingdom</td>\n",
       "      <td>WHITE HANGING HEART T-LIGHT HOLDER</td>\n",
       "    </tr>\n",
       "  </tbody>\n",
       "</table>\n",
       "</div>"
      ],
      "text/plain": [
       "  InvoiceNo StockCode                         Description  Quantity  \\\n",
       "0    536365    85123A  WHITE HANGING HEART T-LIGHT HOLDER         6   \n",
       "1    536373    85123A  WHITE HANGING HEART T-LIGHT HOLDER         6   \n",
       "2    536375    85123A  WHITE HANGING HEART T-LIGHT HOLDER         6   \n",
       "3    536390    85123A  WHITE HANGING HEART T-LIGHT HOLDER        64   \n",
       "4    536394    85123A  WHITE HANGING HEART T-LIGHT HOLDER        32   \n",
       "\n",
       "          InvoiceDate  UnitPrice  CustomerID         Country  \\\n",
       "0 2010-01-12 08:26:00       2.55     17850.0  United Kingdom   \n",
       "1 2010-01-12 09:02:00       2.55     17850.0  United Kingdom   \n",
       "2 2010-01-12 09:32:00       2.55     17850.0  United Kingdom   \n",
       "3 2010-01-12 10:19:00       2.55     17511.0  United Kingdom   \n",
       "4 2010-01-12 10:39:00       2.55     13408.0  United Kingdom   \n",
       "\n",
       "                     Description_Mode  \n",
       "0  WHITE HANGING HEART T-LIGHT HOLDER  \n",
       "1  WHITE HANGING HEART T-LIGHT HOLDER  \n",
       "2  WHITE HANGING HEART T-LIGHT HOLDER  \n",
       "3  WHITE HANGING HEART T-LIGHT HOLDER  \n",
       "4  WHITE HANGING HEART T-LIGHT HOLDER  "
      ]
     },
     "execution_count": 34,
     "metadata": {},
     "output_type": "execute_result"
    }
   ],
   "source": [
    "data_clean.head()"
   ]
  },
  {
   "cell_type": "code",
   "execution_count": 35,
   "id": "aad8b767",
   "metadata": {},
   "outputs": [
    {
     "data": {
      "text/html": [
       "<div>\n",
       "<style scoped>\n",
       "    .dataframe tbody tr th:only-of-type {\n",
       "        vertical-align: middle;\n",
       "    }\n",
       "\n",
       "    .dataframe tbody tr th {\n",
       "        vertical-align: top;\n",
       "    }\n",
       "\n",
       "    .dataframe thead th {\n",
       "        text-align: right;\n",
       "    }\n",
       "</style>\n",
       "<table border=\"1\" class=\"dataframe\">\n",
       "  <thead>\n",
       "    <tr style=\"text-align: right;\">\n",
       "      <th></th>\n",
       "      <th>StockCode</th>\n",
       "      <th>Description</th>\n",
       "      <th>Description_Mode</th>\n",
       "    </tr>\n",
       "  </thead>\n",
       "  <tbody>\n",
       "    <tr>\n",
       "      <th>382925</th>\n",
       "      <td>23396</td>\n",
       "      <td>BUTTERFLY CUSHION COVER</td>\n",
       "      <td>LE JARDIN BOTANIQUE CUSHION COVER</td>\n",
       "    </tr>\n",
       "    <tr>\n",
       "      <th>382926</th>\n",
       "      <td>23396</td>\n",
       "      <td>LA JARDIN BOTANIQUE CUSHION COVER</td>\n",
       "      <td>LE JARDIN BOTANIQUE CUSHION COVER</td>\n",
       "    </tr>\n",
       "    <tr>\n",
       "      <th>382927</th>\n",
       "      <td>23396</td>\n",
       "      <td>LA JARDIN BOTANIQUE CUSHION COVER</td>\n",
       "      <td>LE JARDIN BOTANIQUE CUSHION COVER</td>\n",
       "    </tr>\n",
       "    <tr>\n",
       "      <th>382928</th>\n",
       "      <td>23396</td>\n",
       "      <td>LA JARDIN BOTANIQUE CUSHION COVER</td>\n",
       "      <td>LE JARDIN BOTANIQUE CUSHION COVER</td>\n",
       "    </tr>\n",
       "    <tr>\n",
       "      <th>382929</th>\n",
       "      <td>23396</td>\n",
       "      <td>LA JARDIN BOTANIQUE CUSHION COVER</td>\n",
       "      <td>LE JARDIN BOTANIQUE CUSHION COVER</td>\n",
       "    </tr>\n",
       "  </tbody>\n",
       "</table>\n",
       "</div>"
      ],
      "text/plain": [
       "       StockCode                        Description  \\\n",
       "382925     23396            BUTTERFLY CUSHION COVER   \n",
       "382926     23396  LA JARDIN BOTANIQUE CUSHION COVER   \n",
       "382927     23396  LA JARDIN BOTANIQUE CUSHION COVER   \n",
       "382928     23396  LA JARDIN BOTANIQUE CUSHION COVER   \n",
       "382929     23396  LA JARDIN BOTANIQUE CUSHION COVER   \n",
       "\n",
       "                         Description_Mode  \n",
       "382925  LE JARDIN BOTANIQUE CUSHION COVER  \n",
       "382926  LE JARDIN BOTANIQUE CUSHION COVER  \n",
       "382927  LE JARDIN BOTANIQUE CUSHION COVER  \n",
       "382928  LE JARDIN BOTANIQUE CUSHION COVER  \n",
       "382929  LE JARDIN BOTANIQUE CUSHION COVER  "
      ]
     },
     "execution_count": 35,
     "metadata": {},
     "output_type": "execute_result"
    }
   ],
   "source": [
    "# Check a specific stock code to see if the mode description matches\n",
    "stock_code = '23396'\n",
    "data_clean[data_clean['StockCode'] == stock_code][['StockCode', 'Description', 'Description_Mode']].head()"
   ]
  },
  {
   "cell_type": "markdown",
   "id": "c7dd8a44",
   "metadata": {},
   "source": [
    "This data cleaning process involves identifying and resolving inconsistencies or discrepancies in the dataset. In this case, I  addressed the issue of multiple descriptions for the same stock code by standardizing them. that is ensuring each stock has the same description"
   ]
  },
  {
   "cell_type": "code",
   "execution_count": 36,
   "id": "cd6db41b",
   "metadata": {},
   "outputs": [],
   "source": [
    "data_clean['amount'] = data_clean.Quantity * data_clean.UnitPrice\n"
   ]
  },
  {
   "cell_type": "code",
   "execution_count": 37,
   "id": "7bc33d73",
   "metadata": {},
   "outputs": [
    {
     "data": {
      "text/html": [
       "<div>\n",
       "<style scoped>\n",
       "    .dataframe tbody tr th:only-of-type {\n",
       "        vertical-align: middle;\n",
       "    }\n",
       "\n",
       "    .dataframe tbody tr th {\n",
       "        vertical-align: top;\n",
       "    }\n",
       "\n",
       "    .dataframe thead th {\n",
       "        text-align: right;\n",
       "    }\n",
       "</style>\n",
       "<table border=\"1\" class=\"dataframe\">\n",
       "  <thead>\n",
       "    <tr style=\"text-align: right;\">\n",
       "      <th></th>\n",
       "      <th>InvoiceNo</th>\n",
       "      <th>StockCode</th>\n",
       "      <th>Description</th>\n",
       "      <th>Quantity</th>\n",
       "      <th>InvoiceDate</th>\n",
       "      <th>UnitPrice</th>\n",
       "      <th>CustomerID</th>\n",
       "      <th>Country</th>\n",
       "      <th>Description_Mode</th>\n",
       "      <th>amount</th>\n",
       "    </tr>\n",
       "  </thead>\n",
       "  <tbody>\n",
       "    <tr>\n",
       "      <th>0</th>\n",
       "      <td>536365</td>\n",
       "      <td>85123A</td>\n",
       "      <td>WHITE HANGING HEART T-LIGHT HOLDER</td>\n",
       "      <td>6</td>\n",
       "      <td>2010-01-12 08:26:00</td>\n",
       "      <td>2.55</td>\n",
       "      <td>17850.0</td>\n",
       "      <td>United Kingdom</td>\n",
       "      <td>WHITE HANGING HEART T-LIGHT HOLDER</td>\n",
       "      <td>15.3</td>\n",
       "    </tr>\n",
       "    <tr>\n",
       "      <th>1</th>\n",
       "      <td>536373</td>\n",
       "      <td>85123A</td>\n",
       "      <td>WHITE HANGING HEART T-LIGHT HOLDER</td>\n",
       "      <td>6</td>\n",
       "      <td>2010-01-12 09:02:00</td>\n",
       "      <td>2.55</td>\n",
       "      <td>17850.0</td>\n",
       "      <td>United Kingdom</td>\n",
       "      <td>WHITE HANGING HEART T-LIGHT HOLDER</td>\n",
       "      <td>15.3</td>\n",
       "    </tr>\n",
       "    <tr>\n",
       "      <th>2</th>\n",
       "      <td>536375</td>\n",
       "      <td>85123A</td>\n",
       "      <td>WHITE HANGING HEART T-LIGHT HOLDER</td>\n",
       "      <td>6</td>\n",
       "      <td>2010-01-12 09:32:00</td>\n",
       "      <td>2.55</td>\n",
       "      <td>17850.0</td>\n",
       "      <td>United Kingdom</td>\n",
       "      <td>WHITE HANGING HEART T-LIGHT HOLDER</td>\n",
       "      <td>15.3</td>\n",
       "    </tr>\n",
       "    <tr>\n",
       "      <th>3</th>\n",
       "      <td>536390</td>\n",
       "      <td>85123A</td>\n",
       "      <td>WHITE HANGING HEART T-LIGHT HOLDER</td>\n",
       "      <td>64</td>\n",
       "      <td>2010-01-12 10:19:00</td>\n",
       "      <td>2.55</td>\n",
       "      <td>17511.0</td>\n",
       "      <td>United Kingdom</td>\n",
       "      <td>WHITE HANGING HEART T-LIGHT HOLDER</td>\n",
       "      <td>163.2</td>\n",
       "    </tr>\n",
       "    <tr>\n",
       "      <th>4</th>\n",
       "      <td>536394</td>\n",
       "      <td>85123A</td>\n",
       "      <td>WHITE HANGING HEART T-LIGHT HOLDER</td>\n",
       "      <td>32</td>\n",
       "      <td>2010-01-12 10:39:00</td>\n",
       "      <td>2.55</td>\n",
       "      <td>13408.0</td>\n",
       "      <td>United Kingdom</td>\n",
       "      <td>WHITE HANGING HEART T-LIGHT HOLDER</td>\n",
       "      <td>81.6</td>\n",
       "    </tr>\n",
       "  </tbody>\n",
       "</table>\n",
       "</div>"
      ],
      "text/plain": [
       "  InvoiceNo StockCode                         Description  Quantity  \\\n",
       "0    536365    85123A  WHITE HANGING HEART T-LIGHT HOLDER         6   \n",
       "1    536373    85123A  WHITE HANGING HEART T-LIGHT HOLDER         6   \n",
       "2    536375    85123A  WHITE HANGING HEART T-LIGHT HOLDER         6   \n",
       "3    536390    85123A  WHITE HANGING HEART T-LIGHT HOLDER        64   \n",
       "4    536394    85123A  WHITE HANGING HEART T-LIGHT HOLDER        32   \n",
       "\n",
       "          InvoiceDate  UnitPrice  CustomerID         Country  \\\n",
       "0 2010-01-12 08:26:00       2.55     17850.0  United Kingdom   \n",
       "1 2010-01-12 09:02:00       2.55     17850.0  United Kingdom   \n",
       "2 2010-01-12 09:32:00       2.55     17850.0  United Kingdom   \n",
       "3 2010-01-12 10:19:00       2.55     17511.0  United Kingdom   \n",
       "4 2010-01-12 10:39:00       2.55     13408.0  United Kingdom   \n",
       "\n",
       "                     Description_Mode  amount  \n",
       "0  WHITE HANGING HEART T-LIGHT HOLDER    15.3  \n",
       "1  WHITE HANGING HEART T-LIGHT HOLDER    15.3  \n",
       "2  WHITE HANGING HEART T-LIGHT HOLDER    15.3  \n",
       "3  WHITE HANGING HEART T-LIGHT HOLDER   163.2  \n",
       "4  WHITE HANGING HEART T-LIGHT HOLDER    81.6  "
      ]
     },
     "execution_count": 37,
     "metadata": {},
     "output_type": "execute_result"
    }
   ],
   "source": [
    "data_clean.head()"
   ]
  },
  {
   "cell_type": "code",
   "execution_count": 38,
   "id": "404f7c0e",
   "metadata": {},
   "outputs": [],
   "source": [
    "data_clean.CustomerID = data_clean.CustomerID.astype('Int64')\n"
   ]
  },
  {
   "cell_type": "code",
   "execution_count": 39,
   "id": "43d6fe8a",
   "metadata": {},
   "outputs": [
    {
     "name": "stdout",
     "output_type": "stream",
     "text": [
      "<class 'pandas.core.frame.DataFrame'>\n",
      "Int64Index: 397884 entries, 0 to 397883\n",
      "Data columns (total 10 columns):\n",
      " #   Column            Non-Null Count   Dtype         \n",
      "---  ------            --------------   -----         \n",
      " 0   InvoiceNo         397884 non-null  object        \n",
      " 1   StockCode         397884 non-null  object        \n",
      " 2   Description       397884 non-null  object        \n",
      " 3   Quantity          397884 non-null  int64         \n",
      " 4   InvoiceDate       397884 non-null  datetime64[ns]\n",
      " 5   UnitPrice         397884 non-null  float64       \n",
      " 6   CustomerID        397884 non-null  Int64         \n",
      " 7   Country           397884 non-null  object        \n",
      " 8   Description_Mode  397884 non-null  object        \n",
      " 9   amount            397884 non-null  float64       \n",
      "dtypes: Int64(1), datetime64[ns](1), float64(2), int64(1), object(5)\n",
      "memory usage: 33.8+ MB\n"
     ]
    }
   ],
   "source": [
    "data_clean.info()"
   ]
  },
  {
   "cell_type": "code",
   "execution_count": 40,
   "id": "24831592",
   "metadata": {},
   "outputs": [],
   "source": [
    "# Exploratory Data analysis"
   ]
  },
  {
   "cell_type": "markdown",
   "id": "72a3f3d6",
   "metadata": {},
   "source": [
    "# visualizing sales amounts across different countries and whether the United Kingdom is an internal (domestic) market or not."
   ]
  },
  {
   "cell_type": "code",
   "execution_count": 88,
   "id": "9cb04881",
   "metadata": {},
   "outputs": [
    {
     "data": {
      "image/png": "[encoded data removed]",
      "text/plain": [
       "<Figure size 720x432 with 1 Axes>"
      ]
     },
     "metadata": {
      "needs_background": "light"
     },
     "output_type": "display_data"
    }
   ],
   "source": [
    "fig = plt.figure(figsize=(10, 6))\n",
    "plt.grid(True)\n",
    "\n",
    "# Grouping and Plotting\n",
    "g = data_clean.groupby([\"Country\"]).amount.sum().sort_values(ascending=False).plot(kind='bar', title='Amount Sales by Country')\n",
    "\n",
    "# Adding a New Column\n",
    "data_clean['Internal'] = data_clean.Country.apply(lambda x: 'Yes' if x=='United Kingdom' else 'No')\n"
   ]
  },
  {
   "cell_type": "code",
   "execution_count": 42,
   "id": "c39e5ce0",
   "metadata": {},
   "outputs": [
    {
     "data": {
      "text/html": [
       "<div>\n",
       "<style scoped>\n",
       "    .dataframe tbody tr th:only-of-type {\n",
       "        vertical-align: middle;\n",
       "    }\n",
       "\n",
       "    .dataframe tbody tr th {\n",
       "        vertical-align: top;\n",
       "    }\n",
       "\n",
       "    .dataframe thead th {\n",
       "        text-align: right;\n",
       "    }\n",
       "</style>\n",
       "<table border=\"1\" class=\"dataframe\">\n",
       "  <thead>\n",
       "    <tr style=\"text-align: right;\">\n",
       "      <th></th>\n",
       "      <th>InvoiceNo</th>\n",
       "      <th>StockCode</th>\n",
       "      <th>Description</th>\n",
       "      <th>Quantity</th>\n",
       "      <th>InvoiceDate</th>\n",
       "      <th>UnitPrice</th>\n",
       "      <th>CustomerID</th>\n",
       "      <th>Country</th>\n",
       "      <th>Description_Mode</th>\n",
       "      <th>amount</th>\n",
       "      <th>Internal</th>\n",
       "    </tr>\n",
       "  </thead>\n",
       "  <tbody>\n",
       "    <tr>\n",
       "      <th>0</th>\n",
       "      <td>536365</td>\n",
       "      <td>85123A</td>\n",
       "      <td>WHITE HANGING HEART T-LIGHT HOLDER</td>\n",
       "      <td>6</td>\n",
       "      <td>2010-01-12 08:26:00</td>\n",
       "      <td>2.55</td>\n",
       "      <td>17850</td>\n",
       "      <td>United Kingdom</td>\n",
       "      <td>WHITE HANGING HEART T-LIGHT HOLDER</td>\n",
       "      <td>15.3</td>\n",
       "      <td>Yes</td>\n",
       "    </tr>\n",
       "    <tr>\n",
       "      <th>1</th>\n",
       "      <td>536373</td>\n",
       "      <td>85123A</td>\n",
       "      <td>WHITE HANGING HEART T-LIGHT HOLDER</td>\n",
       "      <td>6</td>\n",
       "      <td>2010-01-12 09:02:00</td>\n",
       "      <td>2.55</td>\n",
       "      <td>17850</td>\n",
       "      <td>United Kingdom</td>\n",
       "      <td>WHITE HANGING HEART T-LIGHT HOLDER</td>\n",
       "      <td>15.3</td>\n",
       "      <td>Yes</td>\n",
       "    </tr>\n",
       "    <tr>\n",
       "      <th>2</th>\n",
       "      <td>536375</td>\n",
       "      <td>85123A</td>\n",
       "      <td>WHITE HANGING HEART T-LIGHT HOLDER</td>\n",
       "      <td>6</td>\n",
       "      <td>2010-01-12 09:32:00</td>\n",
       "      <td>2.55</td>\n",
       "      <td>17850</td>\n",
       "      <td>United Kingdom</td>\n",
       "      <td>WHITE HANGING HEART T-LIGHT HOLDER</td>\n",
       "      <td>15.3</td>\n",
       "      <td>Yes</td>\n",
       "    </tr>\n",
       "    <tr>\n",
       "      <th>3</th>\n",
       "      <td>536390</td>\n",
       "      <td>85123A</td>\n",
       "      <td>WHITE HANGING HEART T-LIGHT HOLDER</td>\n",
       "      <td>64</td>\n",
       "      <td>2010-01-12 10:19:00</td>\n",
       "      <td>2.55</td>\n",
       "      <td>17511</td>\n",
       "      <td>United Kingdom</td>\n",
       "      <td>WHITE HANGING HEART T-LIGHT HOLDER</td>\n",
       "      <td>163.2</td>\n",
       "      <td>Yes</td>\n",
       "    </tr>\n",
       "    <tr>\n",
       "      <th>4</th>\n",
       "      <td>536394</td>\n",
       "      <td>85123A</td>\n",
       "      <td>WHITE HANGING HEART T-LIGHT HOLDER</td>\n",
       "      <td>32</td>\n",
       "      <td>2010-01-12 10:39:00</td>\n",
       "      <td>2.55</td>\n",
       "      <td>13408</td>\n",
       "      <td>United Kingdom</td>\n",
       "      <td>WHITE HANGING HEART T-LIGHT HOLDER</td>\n",
       "      <td>81.6</td>\n",
       "      <td>Yes</td>\n",
       "    </tr>\n",
       "  </tbody>\n",
       "</table>\n",
       "</div>"
      ],
      "text/plain": [
       "  InvoiceNo StockCode                         Description  Quantity  \\\n",
       "0    536365    85123A  WHITE HANGING HEART T-LIGHT HOLDER         6   \n",
       "1    536373    85123A  WHITE HANGING HEART T-LIGHT HOLDER         6   \n",
       "2    536375    85123A  WHITE HANGING HEART T-LIGHT HOLDER         6   \n",
       "3    536390    85123A  WHITE HANGING HEART T-LIGHT HOLDER        64   \n",
       "4    536394    85123A  WHITE HANGING HEART T-LIGHT HOLDER        32   \n",
       "\n",
       "          InvoiceDate  UnitPrice  CustomerID         Country  \\\n",
       "0 2010-01-12 08:26:00       2.55       17850  United Kingdom   \n",
       "1 2010-01-12 09:02:00       2.55       17850  United Kingdom   \n",
       "2 2010-01-12 09:32:00       2.55       17850  United Kingdom   \n",
       "3 2010-01-12 10:19:00       2.55       17511  United Kingdom   \n",
       "4 2010-01-12 10:39:00       2.55       13408  United Kingdom   \n",
       "\n",
       "                     Description_Mode  amount Internal  \n",
       "0  WHITE HANGING HEART T-LIGHT HOLDER    15.3      Yes  \n",
       "1  WHITE HANGING HEART T-LIGHT HOLDER    15.3      Yes  \n",
       "2  WHITE HANGING HEART T-LIGHT HOLDER    15.3      Yes  \n",
       "3  WHITE HANGING HEART T-LIGHT HOLDER   163.2      Yes  \n",
       "4  WHITE HANGING HEART T-LIGHT HOLDER    81.6      Yes  "
      ]
     },
     "execution_count": 42,
     "metadata": {},
     "output_type": "execute_result"
    }
   ],
   "source": [
    "data_clean.head()"
   ]
  },
  {
   "cell_type": "code",
   "execution_count": 43,
   "id": "3e491843",
   "metadata": {},
   "outputs": [
    {
     "data": {
      "image/png": "[encoded data removed]",
      "text/plain": [
       "<Figure size 432x288 with 1 Axes>"
      ]
     },
     "metadata": {},
     "output_type": "display_data"
    }
   ],
   "source": [
    "f2 = fig.add_subplot(122)\n",
    "plt.grid(True)\n",
    "\n",
    "# Grouping by 'Internal' and Plotting a Pie Chart\n",
    "market = data_clean.groupby([\"Internal\"]).amount.sum().sort_values(ascending=False)\n",
    "g = plt.pie(market, labels=market.index, autopct='%1.1f%%', shadow=True, startangle=90)\n",
    "\n",
    "# Adding Title\n",
    "plt.title('Internal Market')\n",
    "\n",
    "# Displaying the Plot\n",
    "plt.show()\n"
   ]
  },
  {
   "cell_type": "markdown",
   "id": "a1b3a151",
   "metadata": {},
   "source": [
    "Based on the sales amounts across different countries and the classification of the United Kingdom as an internal (domestic) market:\n",
    "\n",
    "The analysis shows that the United Kingdom (UK) has the highest sales amount among all countries, indicating that it is a significant contributor to overall sales. This suggests that the UK market plays a crucial role in driving revenue for the business.\n",
    "\n",
    "Additionally, the pie chart illustrates that approximately 82% of the total sales come from the internal market, which includes the United Kingdom. This indicates that the UK serves as a major internal (domestic) market for the business."
   ]
  },
  {
   "cell_type": "markdown",
   "id": "5a7d5f59",
   "metadata": {},
   "source": [
    "# sales amounts for the top 10 customers"
   ]
  },
  {
   "cell_type": "code",
   "execution_count": 44,
   "id": "f3ccb721",
   "metadata": {},
   "outputs": [
    {
     "data": {
      "image/png": "[encoded data removed]",
      "text/plain": [
       "<Figure size 1800x504 with 1 Axes>"
      ]
     },
     "metadata": {
      "needs_background": "light"
     },
     "output_type": "display_data"
    }
   ],
   "source": [
    "# Create a figure and subplot\n",
    "fig = plt.figure(figsize=(25, 7))\n",
    "f1 = fig.add_subplot(121)\n",
    "\n",
    "# Calculate the percentage of total sales contributed by the top 10 customers\n",
    "PercentSales =  np.round((data_clean.groupby([\"CustomerID\"]).amount.sum().\\\n",
    "                          sort_values(ascending=False)[:10].sum() / data_clean.groupby([\"CustomerID\"]).\\\n",
    "                          amount.sum().sort_values(ascending=False).sum()) * 100, 2)\n",
    "\n",
    "# Plot the top 10 customers' sales amounts\n",
    "g = data_clean.groupby([\"CustomerID\"]).amount.sum().sort_values(ascending=False)[:10]\\\n",
    "    .plot(kind='bar', title='Top 10 Customers: {:3.2f}% Sales Amount'.format(PercentSales))\n",
    "\n",
    "# Show the plot\n",
    "plt.show()\n"
   ]
  },
  {
   "cell_type": "markdown",
   "id": "66497a9b",
   "metadata": {},
   "source": [
    "he top 10 customers contribute around 17.26% of the total sales amount, with customer 14646 being the highest contributor."
   ]
  },
  {
   "cell_type": "markdown",
   "id": "67575865",
   "metadata": {},
   "source": [
    "# What are the top 10 products based on sales amount, and what percentage of the total sales amount and total number of events (invoices) do they represent?"
   ]
  },
  {
   "cell_type": "code",
   "execution_count": 45,
   "id": "f64335c3",
   "metadata": {},
   "outputs": [],
   "source": [
    "AmountSum = data_clean.groupby([\"Description\"]).amount.sum().sort_values(ascending=False)\n",
    "Invoices = data_clean[[\"Description\", \"InvoiceNo\"]].groupby([\"Description\"]).InvoiceNo.nunique().sort_values(ascending=False)\n",
    "\n"
   ]
  },
  {
   "cell_type": "code",
   "execution_count": 46,
   "id": "ea64c9b1",
   "metadata": {},
   "outputs": [
    {
     "data": {
      "text/plain": [
       "Description\n",
       "PAPER CRAFT , LITTLE BIRDIE           168469.60\n",
       "REGENCY CAKESTAND 3 TIER              142592.95\n",
       "WHITE HANGING HEART T-LIGHT HOLDER    100448.15\n",
       "JUMBO BAG RED RETROSPOT                85220.78\n",
       "MEDIUM CERAMIC TOP STORAGE JAR         81416.73\n",
       "POSTAGE                                77803.96\n",
       "PARTY BUNTING                          68844.33\n",
       "ASSORTED COLOUR BIRD ORNAMENT          56580.34\n",
       "Manual                                 53779.93\n",
       "RABBIT NIGHT LIGHT                     51346.20\n",
       "Name: amount, dtype: float64"
      ]
     },
     "execution_count": 46,
     "metadata": {},
     "output_type": "execute_result"
    }
   ],
   "source": [
    "AmountSum.head(10)"
   ]
  },
  {
   "cell_type": "code",
   "execution_count": 47,
   "id": "90ceb8be",
   "metadata": {},
   "outputs": [
    {
     "data": {
      "text/plain": [
       "Description\n",
       "WHITE HANGING HEART T-LIGHT HOLDER    1971\n",
       "REGENCY CAKESTAND 3 TIER              1703\n",
       "JUMBO BAG RED RETROSPOT               1600\n",
       "PARTY BUNTING                         1379\n",
       "ASSORTED COLOUR BIRD ORNAMENT         1375\n",
       "LUNCH BAG RED RETROSPOT               1288\n",
       "SET OF 3 CAKE TINS PANTRY DESIGN      1146\n",
       "POSTAGE                               1099\n",
       "LUNCH BAG  BLACK SKULL.               1052\n",
       "PACK OF 72 RETROSPOT CAKE CASES       1029\n",
       "Name: InvoiceNo, dtype: int64"
      ]
     },
     "execution_count": 47,
     "metadata": {},
     "output_type": "execute_result"
    }
   ],
   "source": [
    "Invoices.head(10)"
   ]
  },
  {
   "cell_type": "code",
   "execution_count": 48,
   "id": "f9626a6c",
   "metadata": {},
   "outputs": [
    {
     "data": {
      "image/png": "[encoded data removed]",
      "text/plain": [
       "<Figure size 1800x504 with 1 Axes>"
      ]
     },
     "metadata": {
      "needs_background": "light"
     },
     "output_type": "display_data"
    }
   ],
   "source": [
    "fig = plt.figure(figsize=(25, 7))\n",
    "f1 = fig.add_subplot(121)\n",
    "plt.grid(True)\n",
    "Top10 = list(AmountSum[:10].index)\n",
    "PercentSales = np.round((AmountSum[Top10].sum() / AmountSum.sum()) * 100, 2)\n",
    "PercentEvents = np.round((Invoices[Top10].sum() / Invoices.sum()) * 100, 2)\n",
    "g = AmountSum[Top10].plot(kind='bar', title='Top 10 Products in Sales Amount: {:3.2f}% of Amount and {:3.2f}% of Events'.format(PercentSales, PercentEvents))\n"
   ]
  },
  {
   "cell_type": "markdown",
   "id": "09fa1313",
   "metadata": {},
   "source": [
    "The top 10 products based on sales amount are as follows:\n",
    "1. PAPER CRAFT, LITTLE BIRDIE\n",
    "2. REGENCY CAKESTAND 3 TIER\n",
    "3. WHITE HANGING HEART T-LIGHT HOLDER\n",
    "4. JUMBO BAG RED RETROSPOT\n",
    "5. MEDIUM CERAMIC TOP STORAGE JAR\n",
    "6. POSTAGE\n",
    "7. PARTY BUNTING\n",
    "8. ASSORTED COLOUR BIRD ORNAMENT\n",
    "9. Manual\n",
    "10. RABBIT NIGHT LIGHT\n",
    "These top 10 products represent approximately 9.95% of the total sales amount and about 2.6% of the total number of events (invoices).\n",
    "\n",
    "\n",
    "\n",
    "\n",
    "\n",
    "\n"
   ]
  },
  {
   "cell_type": "markdown",
   "id": "f546e77c",
   "metadata": {},
   "source": [
    "# customer segmentation"
   ]
  },
  {
   "cell_type": "markdown",
   "id": "82979732",
   "metadata": {},
   "source": [
    "To calculate the RFM (Recency, Frequency, Monetary) values for customer segmentation , we need to consider the following steps:\n",
    "\n",
    "1. Recency: Calculate how recent each customer's last purchase was.\n",
    "2. Frequency: Count the number of purchases each customer made.\n",
    "3. Monetary: Sum the total spend for each customer."
   ]
  },
  {
   "cell_type": "markdown",
   "id": "718e965c",
   "metadata": {},
   "source": [
    "# Calculate Recency\n",
    "our reference is the most recent date in the  dataset "
   ]
  },
  {
   "cell_type": "code",
   "execution_count": 49,
   "id": "130faec0",
   "metadata": {},
   "outputs": [],
   "source": [
    "reference_date = data_clean['InvoiceDate'].max()\n"
   ]
  },
  {
   "cell_type": "code",
   "execution_count": 50,
   "id": "441717d8",
   "metadata": {},
   "outputs": [],
   "source": [
    "import datetime"
   ]
  },
  {
   "cell_type": "code",
   "execution_count": 51,
   "id": "2c421af1",
   "metadata": {},
   "outputs": [
    {
     "name": "stdout",
     "output_type": "stream",
     "text": [
      "Reference Date: 2011-12-11 17:19:00\n"
     ]
    }
   ],
   "source": [
    "refrence_date = data_clean.InvoiceDate.max() + datetime.timedelta(days = 1)\n",
    "print('Reference Date:', refrence_date)\n"
   ]
  },
  {
   "cell_type": "code",
   "execution_count": 52,
   "id": "63eb2eb1",
   "metadata": {},
   "outputs": [],
   "source": [
    "# Calculate days since last purchase\n",
    "data_clean['days_since_last_purchase'] = (reference_date - data_clean['InvoiceDate']).astype('timedelta64[D]')\n"
   ]
  },
  {
   "cell_type": "code",
   "execution_count": 53,
   "id": "b36cdb62",
   "metadata": {},
   "outputs": [],
   "source": [
    "# Group by CustomerID and calculate recency\n",
    "customer_recency_df = data_clean.groupby('CustomerID')['days_since_last_purchase'].min().reset_index()\n",
    "customer_recency_df.rename(columns={'days_since_last_purchase': 'recency'}, inplace=True)"
   ]
  },
  {
   "cell_type": "code",
   "execution_count": 54,
   "id": "c81b6302",
   "metadata": {},
   "outputs": [
    {
     "data": {
      "text/html": [
       "<div>\n",
       "<style scoped>\n",
       "    .dataframe tbody tr th:only-of-type {\n",
       "        vertical-align: middle;\n",
       "    }\n",
       "\n",
       "    .dataframe tbody tr th {\n",
       "        vertical-align: top;\n",
       "    }\n",
       "\n",
       "    .dataframe thead th {\n",
       "        text-align: right;\n",
       "    }\n",
       "</style>\n",
       "<table border=\"1\" class=\"dataframe\">\n",
       "  <thead>\n",
       "    <tr style=\"text-align: right;\">\n",
       "      <th></th>\n",
       "      <th>count</th>\n",
       "      <th>mean</th>\n",
       "      <th>std</th>\n",
       "      <th>min</th>\n",
       "      <th>25%</th>\n",
       "      <th>50%</th>\n",
       "      <th>75%</th>\n",
       "      <th>max</th>\n",
       "    </tr>\n",
       "  </thead>\n",
       "  <tbody>\n",
       "    <tr>\n",
       "      <th>CustomerID</th>\n",
       "      <td>4338.0</td>\n",
       "      <td>15300.408022</td>\n",
       "      <td>1721.808492</td>\n",
       "      <td>12346.0</td>\n",
       "      <td>13813.25</td>\n",
       "      <td>15299.5</td>\n",
       "      <td>16778.75</td>\n",
       "      <td>18287.0</td>\n",
       "    </tr>\n",
       "    <tr>\n",
       "      <th>recency</th>\n",
       "      <td>4338.0</td>\n",
       "      <td>105.470954</td>\n",
       "      <td>115.082161</td>\n",
       "      <td>0.0</td>\n",
       "      <td>22.00</td>\n",
       "      <td>61.0</td>\n",
       "      <td>161.75</td>\n",
       "      <td>697.0</td>\n",
       "    </tr>\n",
       "  </tbody>\n",
       "</table>\n",
       "</div>"
      ],
      "text/plain": [
       "             count          mean          std      min       25%      50%  \\\n",
       "CustomerID  4338.0  15300.408022  1721.808492  12346.0  13813.25  15299.5   \n",
       "recency     4338.0    105.470954   115.082161      0.0     22.00     61.0   \n",
       "\n",
       "                 75%      max  \n",
       "CustomerID  16778.75  18287.0  \n",
       "recency       161.75    697.0  "
      ]
     },
     "execution_count": 54,
     "metadata": {},
     "output_type": "execute_result"
    }
   ],
   "source": [
    "# Describe the recency data\n",
    "customer_recency_df.describe().transpose()"
   ]
  },
  {
   "cell_type": "markdown",
   "id": "c7a17eee",
   "metadata": {},
   "source": [
    "1. Count: The number of unique customers (4339).\n",
    "2. Mean: The average recency value (105.43 days).\n",
    "3. Std: The standard deviation of recency values (115.08 days), indicating variability.\n",
    "4. Min: The minimum recency value (0 days), indicating some customers made a purchase on the reference date.\n",
    "5. 25% (Q1): The first quartile (22 days), meaning 25% of customers made their last purchase within 22 days.\n",
    "6. 50% (Median): The median recency value (61 days), meaning half of the customers made their last purchase within 61 days.\n",
    "7. 75% (Q3): The third quartile (161.5 days), meaning 75% of customers made their last purchase within 161.5 days.\n",
    "8. Max: The maximum recency value (697 days), indicating the longest time since the last purchase for a customer."
   ]
  },
  {
   "cell_type": "code",
   "execution_count": 55,
   "id": "f3121ec7",
   "metadata": {},
   "outputs": [],
   "source": [
    "from scipy.stats import norm, probplot\n"
   ]
  },
  {
   "cell_type": "code",
   "execution_count": 56,
   "id": "906c5671",
   "metadata": {},
   "outputs": [
    {
     "data": {
      "image/png": "[encoded data removed]",
      "text/plain": [
       "<Figure size 1440x504 with 2 Axes>"
      ]
     },
     "metadata": {
      "needs_background": "light"
     },
     "output_type": "display_data"
    }
   ],
   "source": [
    "#Defines the function QQ_plot that takes in data (the dataset) and measure (a string describing the measure, e.g., 'Recency').\n",
    "def QQ_plot(data, measure):\n",
    "    fig = plt.figure(figsize=(20,7))\n",
    "#Fits a normal distribution to the data and extracts the mean (mu) and standard deviation (sigma).\n",
    "    (mu, sigma) = norm.fit(data)\n",
    "\n",
    "    # Kernel Density plot\n",
    "    fig1 = fig.add_subplot(121)\n",
    "    sns.histplot(data, kde=True, stat=\"density\", linewidth=0)\n",
    "    fig1.set_title(measure + ' Distribution ( mu = {:.2f} and sigma = {:.2f} )'.format(mu, sigma), loc='center')\n",
    "    fig1.set_xlabel(measure)\n",
    "    fig1.set_ylabel('Frequency')\n",
    "\n",
    "\n",
    "    # QQ plot\n",
    "    fig2 = fig.add_subplot(122)\n",
    "    res = probplot(data, plot=fig2)\n",
    "    fig2.set_title(measure + ' Probability Plot (skewness: {:.6f} and kurtosis: {:.6f} )'.format(data.skew(), data.kurt()), loc='center')\n",
    "\n",
    "    plt.tight_layout()\n",
    "    plt.show()\n",
    "\n",
    "# Call the function with recency data\n",
    "QQ_plot(customer_recency_df['recency'], 'Recency')"
   ]
  },
  {
   "cell_type": "code",
   "execution_count": 57,
   "id": "1ebb442e",
   "metadata": {},
   "outputs": [
    {
     "data": {
      "image/png": "[encoded data removed]",
      "text/plain": [
       "<Figure size 1440x504 with 2 Axes>"
      ]
     },
     "metadata": {
      "needs_background": "light"
     },
     "output_type": "display_data"
    }
   ],
   "source": [
    "customer_recency_df['log_recency'] = np.log1p(customer_recency_df['recency'])\n",
    "QQ_plot(customer_recency_df['log_recency'], 'Log Recency')\n"
   ]
  },
  {
   "cell_type": "code",
   "execution_count": 58,
   "id": "7be7ea96",
   "metadata": {},
   "outputs": [],
   "source": [
    "#Calculate Recency\n",
    "data_clean_recency = data_clean.groupby('CustomerID')['InvoiceDate'].max().reset_index()\n",
    "data_clean_recency.columns = ['CustomerID', 'LastPurchaseDate']\n",
    "data_clean_recency['Recency'] = (reference_date - data_clean_recency['LastPurchaseDate']).dt.days\n"
   ]
  },
  {
   "cell_type": "code",
   "execution_count": 59,
   "id": "3b7ecf03",
   "metadata": {},
   "outputs": [
    {
     "data": {
      "text/html": [
       "<div>\n",
       "<style scoped>\n",
       "    .dataframe tbody tr th:only-of-type {\n",
       "        vertical-align: middle;\n",
       "    }\n",
       "\n",
       "    .dataframe tbody tr th {\n",
       "        vertical-align: top;\n",
       "    }\n",
       "\n",
       "    .dataframe thead th {\n",
       "        text-align: right;\n",
       "    }\n",
       "</style>\n",
       "<table border=\"1\" class=\"dataframe\">\n",
       "  <thead>\n",
       "    <tr style=\"text-align: right;\">\n",
       "      <th></th>\n",
       "      <th>CustomerID</th>\n",
       "      <th>LastPurchaseDate</th>\n",
       "      <th>Recency</th>\n",
       "    </tr>\n",
       "  </thead>\n",
       "  <tbody>\n",
       "    <tr>\n",
       "      <th>0</th>\n",
       "      <td>12346</td>\n",
       "      <td>2011-01-18 10:01:00</td>\n",
       "      <td>326</td>\n",
       "    </tr>\n",
       "    <tr>\n",
       "      <th>1</th>\n",
       "      <td>12347</td>\n",
       "      <td>2011-10-31 12:25:00</td>\n",
       "      <td>40</td>\n",
       "    </tr>\n",
       "    <tr>\n",
       "      <th>2</th>\n",
       "      <td>12348</td>\n",
       "      <td>2011-09-25 13:13:00</td>\n",
       "      <td>76</td>\n",
       "    </tr>\n",
       "    <tr>\n",
       "      <th>3</th>\n",
       "      <td>12349</td>\n",
       "      <td>2011-11-21 09:51:00</td>\n",
       "      <td>19</td>\n",
       "    </tr>\n",
       "    <tr>\n",
       "      <th>4</th>\n",
       "      <td>12350</td>\n",
       "      <td>2011-02-02 16:01:00</td>\n",
       "      <td>311</td>\n",
       "    </tr>\n",
       "  </tbody>\n",
       "</table>\n",
       "</div>"
      ],
      "text/plain": [
       "   CustomerID    LastPurchaseDate  Recency\n",
       "0       12346 2011-01-18 10:01:00      326\n",
       "1       12347 2011-10-31 12:25:00       40\n",
       "2       12348 2011-09-25 13:13:00       76\n",
       "3       12349 2011-11-21 09:51:00       19\n",
       "4       12350 2011-02-02 16:01:00      311"
      ]
     },
     "execution_count": 59,
     "metadata": {},
     "output_type": "execute_result"
    }
   ],
   "source": [
    "data_clean_recency.head()"
   ]
  },
  {
   "cell_type": "code",
   "execution_count": 60,
   "id": "0c123650",
   "metadata": {},
   "outputs": [],
   "source": [
    "#data_clean_recency.tail()"
   ]
  },
  {
   "cell_type": "markdown",
   "id": "cf9d725d",
   "metadata": {},
   "source": [
    "# Calculate Frequency\n",
    "Count the number of unique invoices per customer."
   ]
  },
  {
   "cell_type": "code",
   "execution_count": 61,
   "id": "f3f387b5",
   "metadata": {},
   "outputs": [],
   "source": [
    "data_clean_frequency = data_clean.groupby('CustomerID')['InvoiceNo'].nunique().reset_index()\n",
    "data_clean_frequency.columns = ['CustomerID', 'Frequency']\n"
   ]
  },
  {
   "cell_type": "code",
   "execution_count": 62,
   "id": "a043c6a0",
   "metadata": {},
   "outputs": [
    {
     "data": {
      "text/html": [
       "<div>\n",
       "<style scoped>\n",
       "    .dataframe tbody tr th:only-of-type {\n",
       "        vertical-align: middle;\n",
       "    }\n",
       "\n",
       "    .dataframe tbody tr th {\n",
       "        vertical-align: top;\n",
       "    }\n",
       "\n",
       "    .dataframe thead th {\n",
       "        text-align: right;\n",
       "    }\n",
       "</style>\n",
       "<table border=\"1\" class=\"dataframe\">\n",
       "  <thead>\n",
       "    <tr style=\"text-align: right;\">\n",
       "      <th></th>\n",
       "      <th>CustomerID</th>\n",
       "      <th>Frequency</th>\n",
       "    </tr>\n",
       "  </thead>\n",
       "  <tbody>\n",
       "    <tr>\n",
       "      <th>0</th>\n",
       "      <td>12346</td>\n",
       "      <td>1</td>\n",
       "    </tr>\n",
       "    <tr>\n",
       "      <th>1</th>\n",
       "      <td>12347</td>\n",
       "      <td>7</td>\n",
       "    </tr>\n",
       "    <tr>\n",
       "      <th>2</th>\n",
       "      <td>12348</td>\n",
       "      <td>4</td>\n",
       "    </tr>\n",
       "    <tr>\n",
       "      <th>3</th>\n",
       "      <td>12349</td>\n",
       "      <td>1</td>\n",
       "    </tr>\n",
       "    <tr>\n",
       "      <th>4</th>\n",
       "      <td>12350</td>\n",
       "      <td>1</td>\n",
       "    </tr>\n",
       "  </tbody>\n",
       "</table>\n",
       "</div>"
      ],
      "text/plain": [
       "   CustomerID  Frequency\n",
       "0       12346          1\n",
       "1       12347          7\n",
       "2       12348          4\n",
       "3       12349          1\n",
       "4       12350          1"
      ]
     },
     "execution_count": 62,
     "metadata": {},
     "output_type": "execute_result"
    }
   ],
   "source": [
    "data_clean_frequency.head()"
   ]
  },
  {
   "cell_type": "markdown",
   "id": "ed390589",
   "metadata": {},
   "source": [
    "# Calculate Monetary Value\n",
    "Sum the total spend per customer."
   ]
  },
  {
   "cell_type": "code",
   "execution_count": 63,
   "id": "3b0be1fb",
   "metadata": {},
   "outputs": [],
   "source": [
    "data_clean['TotalAmount'] = data_clean['Quantity'] * data_clean['UnitPrice']\n",
    "data_clean_monetary = data_clean.groupby('CustomerID')['TotalAmount'].sum().reset_index()\n",
    "data_clean_monetary.columns = ['CustomerID', 'Monetary']\n"
   ]
  },
  {
   "cell_type": "code",
   "execution_count": 64,
   "id": "dfaf73e9",
   "metadata": {},
   "outputs": [
    {
     "data": {
      "text/html": [
       "<div>\n",
       "<style scoped>\n",
       "    .dataframe tbody tr th:only-of-type {\n",
       "        vertical-align: middle;\n",
       "    }\n",
       "\n",
       "    .dataframe tbody tr th {\n",
       "        vertical-align: top;\n",
       "    }\n",
       "\n",
       "    .dataframe thead th {\n",
       "        text-align: right;\n",
       "    }\n",
       "</style>\n",
       "<table border=\"1\" class=\"dataframe\">\n",
       "  <thead>\n",
       "    <tr style=\"text-align: right;\">\n",
       "      <th></th>\n",
       "      <th>CustomerID</th>\n",
       "      <th>Monetary</th>\n",
       "    </tr>\n",
       "  </thead>\n",
       "  <tbody>\n",
       "    <tr>\n",
       "      <th>0</th>\n",
       "      <td>12346</td>\n",
       "      <td>77183.60</td>\n",
       "    </tr>\n",
       "    <tr>\n",
       "      <th>1</th>\n",
       "      <td>12347</td>\n",
       "      <td>4310.00</td>\n",
       "    </tr>\n",
       "    <tr>\n",
       "      <th>2</th>\n",
       "      <td>12348</td>\n",
       "      <td>1797.24</td>\n",
       "    </tr>\n",
       "    <tr>\n",
       "      <th>3</th>\n",
       "      <td>12349</td>\n",
       "      <td>1757.55</td>\n",
       "    </tr>\n",
       "    <tr>\n",
       "      <th>4</th>\n",
       "      <td>12350</td>\n",
       "      <td>334.40</td>\n",
       "    </tr>\n",
       "  </tbody>\n",
       "</table>\n",
       "</div>"
      ],
      "text/plain": [
       "   CustomerID  Monetary\n",
       "0       12346  77183.60\n",
       "1       12347   4310.00\n",
       "2       12348   1797.24\n",
       "3       12349   1757.55\n",
       "4       12350    334.40"
      ]
     },
     "execution_count": 64,
     "metadata": {},
     "output_type": "execute_result"
    }
   ],
   "source": [
    "data_clean_monetary.head()"
   ]
  },
  {
   "cell_type": "code",
   "execution_count": 65,
   "id": "38040554",
   "metadata": {},
   "outputs": [
    {
     "data": {
      "text/html": [
       "<div>\n",
       "<style scoped>\n",
       "    .dataframe tbody tr th:only-of-type {\n",
       "        vertical-align: middle;\n",
       "    }\n",
       "\n",
       "    .dataframe tbody tr th {\n",
       "        vertical-align: top;\n",
       "    }\n",
       "\n",
       "    .dataframe thead th {\n",
       "        text-align: right;\n",
       "    }\n",
       "</style>\n",
       "<table border=\"1\" class=\"dataframe\">\n",
       "  <thead>\n",
       "    <tr style=\"text-align: right;\">\n",
       "      <th></th>\n",
       "      <th>CustomerID</th>\n",
       "      <th>Monetary</th>\n",
       "    </tr>\n",
       "  </thead>\n",
       "  <tbody>\n",
       "    <tr>\n",
       "      <th>4333</th>\n",
       "      <td>18280</td>\n",
       "      <td>180.60</td>\n",
       "    </tr>\n",
       "    <tr>\n",
       "      <th>4334</th>\n",
       "      <td>18281</td>\n",
       "      <td>80.82</td>\n",
       "    </tr>\n",
       "    <tr>\n",
       "      <th>4335</th>\n",
       "      <td>18282</td>\n",
       "      <td>178.05</td>\n",
       "    </tr>\n",
       "    <tr>\n",
       "      <th>4336</th>\n",
       "      <td>18283</td>\n",
       "      <td>2094.88</td>\n",
       "    </tr>\n",
       "    <tr>\n",
       "      <th>4337</th>\n",
       "      <td>18287</td>\n",
       "      <td>1837.28</td>\n",
       "    </tr>\n",
       "  </tbody>\n",
       "</table>\n",
       "</div>"
      ],
      "text/plain": [
       "      CustomerID  Monetary\n",
       "4333       18280    180.60\n",
       "4334       18281     80.82\n",
       "4335       18282    178.05\n",
       "4336       18283   2094.88\n",
       "4337       18287   1837.28"
      ]
     },
     "execution_count": 65,
     "metadata": {},
     "output_type": "execute_result"
    }
   ],
   "source": [
    "data_clean_monetary.tail()"
   ]
  },
  {
   "cell_type": "markdown",
   "id": "4b81da5a",
   "metadata": {},
   "source": [
    "# Merge R, F, M Values\n",
    "Combine the Recency, Frequency, and Monetary dataframes into one."
   ]
  },
  {
   "cell_type": "code",
   "execution_count": 66,
   "id": "19830bf3",
   "metadata": {},
   "outputs": [],
   "source": [
    "rfm = data_clean_recency.merge(data_clean_frequency, on='CustomerID').merge(data_clean_monetary, on='CustomerID')\n"
   ]
  },
  {
   "cell_type": "code",
   "execution_count": 67,
   "id": "cb008edb",
   "metadata": {},
   "outputs": [
    {
     "data": {
      "text/html": [
       "<div>\n",
       "<style scoped>\n",
       "    .dataframe tbody tr th:only-of-type {\n",
       "        vertical-align: middle;\n",
       "    }\n",
       "\n",
       "    .dataframe tbody tr th {\n",
       "        vertical-align: top;\n",
       "    }\n",
       "\n",
       "    .dataframe thead th {\n",
       "        text-align: right;\n",
       "    }\n",
       "</style>\n",
       "<table border=\"1\" class=\"dataframe\">\n",
       "  <thead>\n",
       "    <tr style=\"text-align: right;\">\n",
       "      <th></th>\n",
       "      <th>CustomerID</th>\n",
       "      <th>LastPurchaseDate</th>\n",
       "      <th>Recency</th>\n",
       "      <th>Frequency</th>\n",
       "      <th>Monetary</th>\n",
       "    </tr>\n",
       "  </thead>\n",
       "  <tbody>\n",
       "    <tr>\n",
       "      <th>0</th>\n",
       "      <td>12346</td>\n",
       "      <td>2011-01-18 10:01:00</td>\n",
       "      <td>326</td>\n",
       "      <td>1</td>\n",
       "      <td>77183.60</td>\n",
       "    </tr>\n",
       "    <tr>\n",
       "      <th>1</th>\n",
       "      <td>12347</td>\n",
       "      <td>2011-10-31 12:25:00</td>\n",
       "      <td>40</td>\n",
       "      <td>7</td>\n",
       "      <td>4310.00</td>\n",
       "    </tr>\n",
       "    <tr>\n",
       "      <th>2</th>\n",
       "      <td>12348</td>\n",
       "      <td>2011-09-25 13:13:00</td>\n",
       "      <td>76</td>\n",
       "      <td>4</td>\n",
       "      <td>1797.24</td>\n",
       "    </tr>\n",
       "    <tr>\n",
       "      <th>3</th>\n",
       "      <td>12349</td>\n",
       "      <td>2011-11-21 09:51:00</td>\n",
       "      <td>19</td>\n",
       "      <td>1</td>\n",
       "      <td>1757.55</td>\n",
       "    </tr>\n",
       "    <tr>\n",
       "      <th>4</th>\n",
       "      <td>12350</td>\n",
       "      <td>2011-02-02 16:01:00</td>\n",
       "      <td>311</td>\n",
       "      <td>1</td>\n",
       "      <td>334.40</td>\n",
       "    </tr>\n",
       "    <tr>\n",
       "      <th>...</th>\n",
       "      <td>...</td>\n",
       "      <td>...</td>\n",
       "      <td>...</td>\n",
       "      <td>...</td>\n",
       "      <td>...</td>\n",
       "    </tr>\n",
       "    <tr>\n",
       "      <th>4333</th>\n",
       "      <td>18280</td>\n",
       "      <td>2011-07-03 09:52:00</td>\n",
       "      <td>160</td>\n",
       "      <td>1</td>\n",
       "      <td>180.60</td>\n",
       "    </tr>\n",
       "    <tr>\n",
       "      <th>4334</th>\n",
       "      <td>18281</td>\n",
       "      <td>2011-12-06 10:53:00</td>\n",
       "      <td>4</td>\n",
       "      <td>1</td>\n",
       "      <td>80.82</td>\n",
       "    </tr>\n",
       "    <tr>\n",
       "      <th>4335</th>\n",
       "      <td>18282</td>\n",
       "      <td>2011-05-08 13:35:00</td>\n",
       "      <td>216</td>\n",
       "      <td>2</td>\n",
       "      <td>178.05</td>\n",
       "    </tr>\n",
       "    <tr>\n",
       "      <th>4336</th>\n",
       "      <td>18283</td>\n",
       "      <td>2011-11-30 12:59:00</td>\n",
       "      <td>10</td>\n",
       "      <td>16</td>\n",
       "      <td>2094.88</td>\n",
       "    </tr>\n",
       "    <tr>\n",
       "      <th>4337</th>\n",
       "      <td>18287</td>\n",
       "      <td>2011-12-10 10:23:00</td>\n",
       "      <td>0</td>\n",
       "      <td>3</td>\n",
       "      <td>1837.28</td>\n",
       "    </tr>\n",
       "  </tbody>\n",
       "</table>\n",
       "<p>4338 rows × 5 columns</p>\n",
       "</div>"
      ],
      "text/plain": [
       "      CustomerID    LastPurchaseDate  Recency  Frequency  Monetary\n",
       "0          12346 2011-01-18 10:01:00      326          1  77183.60\n",
       "1          12347 2011-10-31 12:25:00       40          7   4310.00\n",
       "2          12348 2011-09-25 13:13:00       76          4   1797.24\n",
       "3          12349 2011-11-21 09:51:00       19          1   1757.55\n",
       "4          12350 2011-02-02 16:01:00      311          1    334.40\n",
       "...          ...                 ...      ...        ...       ...\n",
       "4333       18280 2011-07-03 09:52:00      160          1    180.60\n",
       "4334       18281 2011-12-06 10:53:00        4          1     80.82\n",
       "4335       18282 2011-05-08 13:35:00      216          2    178.05\n",
       "4336       18283 2011-11-30 12:59:00       10         16   2094.88\n",
       "4337       18287 2011-12-10 10:23:00        0          3   1837.28\n",
       "\n",
       "[4338 rows x 5 columns]"
      ]
     },
     "execution_count": 67,
     "metadata": {},
     "output_type": "execute_result"
    }
   ],
   "source": [
    "rfm"
   ]
  },
  {
   "cell_type": "markdown",
   "id": "6cc3ede0",
   "metadata": {},
   "source": [
    "1. Recency:  lower scores means more recent purchases,and active customers.\n",
    "2. Frequency: Higher frequency indicates loyal customers.\n",
    "3. Monetary: Higher monetary values indicate high-spending customers.\n",
    "we will  classify the customers into segments such as VIP, Loyal, At Risk,  using quantile method\n",
    "\n",
    "Quantile analysis is a common and statistically sound method for segmenting customers based on RFM scores. Quantiles divide a dataset into equal portions, allowing you to identify thresholds that separate customers into different segments.\n",
    "By using quantiles, you ensure that each segment contains approximately the same number of customers, which can help balance the distribution of customers across segments and provide more meaningful insights. "
   ]
  },
  {
   "cell_type": "code",
   "execution_count": 68,
   "id": "f44ad4f7",
   "metadata": {},
   "outputs": [],
   "source": [
    "# Assign scores using quantiles, ensuring to drop duplicates\n",
    "rfm['R_Score'] = pd.qcut(rfm['Recency'], 5, labels=False, duplicates='drop') + 1\n",
    "rfm['F_Score'] = pd.qcut(rfm['Frequency'], 5, labels=False, duplicates='drop') + 1\n",
    "rfm['M_Score'] = pd.qcut(rfm['Monetary'], 5, labels=False, duplicates='drop') + 1\n",
    "\n"
   ]
  },
  {
   "cell_type": "code",
   "execution_count": 69,
   "id": "47ccb0ab",
   "metadata": {},
   "outputs": [],
   "source": [
    "# Calculate RFM Score\n",
    "rfm['RFM_Score'] = rfm['R_Score'] + rfm['F_Score'] + rfm['M_Score']\n"
   ]
  },
  {
   "cell_type": "code",
   "execution_count": 70,
   "id": "7f9b0e6f",
   "metadata": {},
   "outputs": [],
   "source": [
    "def segment_customer(data_clean):\n",
    "    if data_clean['RFM_Score'] >= 13:\n",
    "        return 'VIP'\n",
    "    elif 9 <= data_clean['RFM_Score'] < 13:\n",
    "        return 'Loyal'\n",
    "    elif 5 <= data_clean['RFM_Score'] < 9:\n",
    "        return 'At Risk'\n",
    "    else:\n",
    "        return 'Lost'\n",
    "\n",
    "rfm['Segment'] = rfm.apply(segment_customer, axis=1)\n"
   ]
  },
  {
   "cell_type": "markdown",
   "id": "cfa55b92",
   "metadata": {},
   "source": [
    "divided the customers into groups based on how recently they made a purchase (Recency), how often they make purchases (Frequency), and how much money they spend (Monetary).\n",
    "\n",
    "We divided them into five equal groups, so each customer got a score from 1 to 5 for each of these three factors.\n",
    "\n",
    "RFM Score Total Calculation:\n",
    "\n",
    "Then, we added up these scores for each customer to get one total score, which tells us how good or active they are as customers. This total score could range from 3 to 15.\n",
    "\n",
    "Segmentation:\n",
    "\n",
    "Next, we wanted to put customers into different groups or segments based on their total score. We decided that customers with higher total scores are more valuable to us, so we set some cutoff points:\n",
    "\n",
    "Those with scores of 13 or higher are VIP customers.\n",
    "\n",
    "Scores between 9 and 12 are for loyal customers.\n",
    "\n",
    "Scores between 5 and 8 mean they're at risk of leaving.\n",
    "\n",
    "And scores below 5 mean they're lost or not very active customers."
   ]
  },
  {
   "cell_type": "code",
   "execution_count": 71,
   "id": "6ecde4cd",
   "metadata": {},
   "outputs": [
    {
     "data": {
      "text/html": [
       "<div>\n",
       "<style scoped>\n",
       "    .dataframe tbody tr th:only-of-type {\n",
       "        vertical-align: middle;\n",
       "    }\n",
       "\n",
       "    .dataframe tbody tr th {\n",
       "        vertical-align: top;\n",
       "    }\n",
       "\n",
       "    .dataframe thead th {\n",
       "        text-align: right;\n",
       "    }\n",
       "</style>\n",
       "<table border=\"1\" class=\"dataframe\">\n",
       "  <thead>\n",
       "    <tr style=\"text-align: right;\">\n",
       "      <th></th>\n",
       "      <th>CustomerID</th>\n",
       "      <th>LastPurchaseDate</th>\n",
       "      <th>Recency</th>\n",
       "      <th>Frequency</th>\n",
       "      <th>Monetary</th>\n",
       "      <th>R_Score</th>\n",
       "      <th>F_Score</th>\n",
       "      <th>M_Score</th>\n",
       "      <th>RFM_Score</th>\n",
       "      <th>Segment</th>\n",
       "    </tr>\n",
       "  </thead>\n",
       "  <tbody>\n",
       "    <tr>\n",
       "      <th>0</th>\n",
       "      <td>12346</td>\n",
       "      <td>2011-01-18 10:01:00</td>\n",
       "      <td>326</td>\n",
       "      <td>1</td>\n",
       "      <td>77183.60</td>\n",
       "      <td>5</td>\n",
       "      <td>1</td>\n",
       "      <td>5</td>\n",
       "      <td>11</td>\n",
       "      <td>Loyal</td>\n",
       "    </tr>\n",
       "    <tr>\n",
       "      <th>1</th>\n",
       "      <td>12347</td>\n",
       "      <td>2011-10-31 12:25:00</td>\n",
       "      <td>40</td>\n",
       "      <td>7</td>\n",
       "      <td>4310.00</td>\n",
       "      <td>2</td>\n",
       "      <td>4</td>\n",
       "      <td>5</td>\n",
       "      <td>11</td>\n",
       "      <td>Loyal</td>\n",
       "    </tr>\n",
       "    <tr>\n",
       "      <th>2</th>\n",
       "      <td>12348</td>\n",
       "      <td>2011-09-25 13:13:00</td>\n",
       "      <td>76</td>\n",
       "      <td>4</td>\n",
       "      <td>1797.24</td>\n",
       "      <td>3</td>\n",
       "      <td>3</td>\n",
       "      <td>4</td>\n",
       "      <td>10</td>\n",
       "      <td>Loyal</td>\n",
       "    </tr>\n",
       "    <tr>\n",
       "      <th>3</th>\n",
       "      <td>12349</td>\n",
       "      <td>2011-11-21 09:51:00</td>\n",
       "      <td>19</td>\n",
       "      <td>1</td>\n",
       "      <td>1757.55</td>\n",
       "      <td>2</td>\n",
       "      <td>1</td>\n",
       "      <td>4</td>\n",
       "      <td>7</td>\n",
       "      <td>At Risk</td>\n",
       "    </tr>\n",
       "    <tr>\n",
       "      <th>4</th>\n",
       "      <td>12350</td>\n",
       "      <td>2011-02-02 16:01:00</td>\n",
       "      <td>311</td>\n",
       "      <td>1</td>\n",
       "      <td>334.40</td>\n",
       "      <td>5</td>\n",
       "      <td>1</td>\n",
       "      <td>2</td>\n",
       "      <td>8</td>\n",
       "      <td>At Risk</td>\n",
       "    </tr>\n",
       "    <tr>\n",
       "      <th>...</th>\n",
       "      <td>...</td>\n",
       "      <td>...</td>\n",
       "      <td>...</td>\n",
       "      <td>...</td>\n",
       "      <td>...</td>\n",
       "      <td>...</td>\n",
       "      <td>...</td>\n",
       "      <td>...</td>\n",
       "      <td>...</td>\n",
       "      <td>...</td>\n",
       "    </tr>\n",
       "    <tr>\n",
       "      <th>4333</th>\n",
       "      <td>18280</td>\n",
       "      <td>2011-07-03 09:52:00</td>\n",
       "      <td>160</td>\n",
       "      <td>1</td>\n",
       "      <td>180.60</td>\n",
       "      <td>4</td>\n",
       "      <td>1</td>\n",
       "      <td>1</td>\n",
       "      <td>6</td>\n",
       "      <td>At Risk</td>\n",
       "    </tr>\n",
       "    <tr>\n",
       "      <th>4334</th>\n",
       "      <td>18281</td>\n",
       "      <td>2011-12-06 10:53:00</td>\n",
       "      <td>4</td>\n",
       "      <td>1</td>\n",
       "      <td>80.82</td>\n",
       "      <td>1</td>\n",
       "      <td>1</td>\n",
       "      <td>1</td>\n",
       "      <td>3</td>\n",
       "      <td>Lost</td>\n",
       "    </tr>\n",
       "    <tr>\n",
       "      <th>4335</th>\n",
       "      <td>18282</td>\n",
       "      <td>2011-05-08 13:35:00</td>\n",
       "      <td>216</td>\n",
       "      <td>2</td>\n",
       "      <td>178.05</td>\n",
       "      <td>5</td>\n",
       "      <td>1</td>\n",
       "      <td>1</td>\n",
       "      <td>7</td>\n",
       "      <td>At Risk</td>\n",
       "    </tr>\n",
       "    <tr>\n",
       "      <th>4336</th>\n",
       "      <td>18283</td>\n",
       "      <td>2011-11-30 12:59:00</td>\n",
       "      <td>10</td>\n",
       "      <td>16</td>\n",
       "      <td>2094.88</td>\n",
       "      <td>1</td>\n",
       "      <td>4</td>\n",
       "      <td>5</td>\n",
       "      <td>10</td>\n",
       "      <td>Loyal</td>\n",
       "    </tr>\n",
       "    <tr>\n",
       "      <th>4337</th>\n",
       "      <td>18287</td>\n",
       "      <td>2011-12-10 10:23:00</td>\n",
       "      <td>0</td>\n",
       "      <td>3</td>\n",
       "      <td>1837.28</td>\n",
       "      <td>1</td>\n",
       "      <td>2</td>\n",
       "      <td>4</td>\n",
       "      <td>7</td>\n",
       "      <td>At Risk</td>\n",
       "    </tr>\n",
       "  </tbody>\n",
       "</table>\n",
       "<p>4338 rows × 10 columns</p>\n",
       "</div>"
      ],
      "text/plain": [
       "      CustomerID    LastPurchaseDate  Recency  Frequency  Monetary  R_Score  \\\n",
       "0          12346 2011-01-18 10:01:00      326          1  77183.60        5   \n",
       "1          12347 2011-10-31 12:25:00       40          7   4310.00        2   \n",
       "2          12348 2011-09-25 13:13:00       76          4   1797.24        3   \n",
       "3          12349 2011-11-21 09:51:00       19          1   1757.55        2   \n",
       "4          12350 2011-02-02 16:01:00      311          1    334.40        5   \n",
       "...          ...                 ...      ...        ...       ...      ...   \n",
       "4333       18280 2011-07-03 09:52:00      160          1    180.60        4   \n",
       "4334       18281 2011-12-06 10:53:00        4          1     80.82        1   \n",
       "4335       18282 2011-05-08 13:35:00      216          2    178.05        5   \n",
       "4336       18283 2011-11-30 12:59:00       10         16   2094.88        1   \n",
       "4337       18287 2011-12-10 10:23:00        0          3   1837.28        1   \n",
       "\n",
       "      F_Score  M_Score  RFM_Score  Segment  \n",
       "0           1        5         11    Loyal  \n",
       "1           4        5         11    Loyal  \n",
       "2           3        4         10    Loyal  \n",
       "3           1        4          7  At Risk  \n",
       "4           1        2          8  At Risk  \n",
       "...       ...      ...        ...      ...  \n",
       "4333        1        1          6  At Risk  \n",
       "4334        1        1          3     Lost  \n",
       "4335        1        1          7  At Risk  \n",
       "4336        4        5         10    Loyal  \n",
       "4337        2        4          7  At Risk  \n",
       "\n",
       "[4338 rows x 10 columns]"
      ]
     },
     "execution_count": 71,
     "metadata": {},
     "output_type": "execute_result"
    }
   ],
   "source": [
    "rfm"
   ]
  },
  {
   "cell_type": "markdown",
   "id": "42f6215b",
   "metadata": {},
   "source": [
    "VIP: Customers in the 'VIP' segment have high Recency, Frequency, and Monetary scores(rfm) . They are recent purchasers, buy frequently, and spend the most money. This segment is crucial as they are usually the  best customers.\n",
    "\n",
    "Loyal: These customers have moderate to high scores across Recency, Frequency, and Monetary. They are frequent purchasers and spend a good amount but may not be as recent or spend as much as VIPs.\n",
    "\n",
    "At Risk: Customers in this segment might have made frequent purchases and spent a lot in the past but haven't made recent purchases. They are at risk of churning and may require re-engagement strategies.\n",
    "\n",
    "Lost: These customers have low scores in all RFM dimensions. They haven't purchased recently, don't buy often, and don't spend much. They may have already churned or need significant efforts to win back."
   ]
  },
  {
   "cell_type": "code",
   "execution_count": 72,
   "id": "e7749332",
   "metadata": {},
   "outputs": [
    {
     "data": {
      "image/png": "[encoded data removed]",
      "text/plain": [
       "<Figure size 720x432 with 1 Axes>"
      ]
     },
     "metadata": {
      "needs_background": "light"
     },
     "output_type": "display_data"
    }
   ],
   "source": [
    "segment_counts = rfm['Segment'].value_counts(normalize=True).sort_values(ascending=False) * 100\n",
    "\n",
    "# Create the bar plot\n",
    "plt.figure(figsize=(10, 6))\n",
    "plt.grid(True)\n",
    "sns.barplot(x=segment_counts.index, y=segment_counts.values)\n",
    "plt.title('Customer Segments Distribution')\n",
    "plt.xlabel('Segments')\n",
    "plt.ylabel('Percentage of Customers (%)')\n",
    "\n",
    "# Add percentage labels on top of each bar\n",
    "for i in range(len(segment_counts)):\n",
    "    plt.text(i, segment_counts.values[i] + 0.5, f'{segment_counts.values[i]:.1f}%', ha='center')\n",
    "\n",
    "plt.show()\n"
   ]
  },
  {
   "cell_type": "markdown",
   "id": "7f2b71fd",
   "metadata": {},
   "source": [
    "The barplot results indicate the following distribution of customer segments:\n",
    "\n",
    "1. 55.7% At Risk\n",
    "2. 38.1% Loyal\n",
    "3. 5.3% Lost\n",
    "4. 0.9% VIP\n",
    "\n",
    "# Key Insights:\n",
    "\n",
    "1. High Proportion of At-Risk Customers (55.7%):\n",
    "\n",
    "Implication: Over half of the  customers are at risk of churning. These customers have either decreased their purchasing frequency, haven't made recent purchases, or their spending has dropped.\n",
    "\n",
    "Action: Focus on re-engagement strategies for this segment. Consider personalized marketing campaigns, special offers, or loyalty programs to encourage them to return and purchase more frequently.\n",
    "\n",
    "2. Significant Loyal Segment (38.1%):\n",
    "\n",
    "Implication: A substantial portion of the customers are loyal, indicating a stable and engaged customer base.\n",
    "\n",
    "Action: Continue to nurture this segment. Provide rewards for their loyalty, exclusive deals, and ensure high customer satisfaction to maintain their engagement and prevent them from becoming at risk.\n",
    "\n",
    "3. Small Lost Segment (5.3%):\n",
    "\n",
    "Implication: A small percentage of customers have likely already churned. They haven't made recent purchases and may not be highly engaged.\n",
    "Action: Analyze the reasons behind their churn. If viable, implement win-back campaigns with strong incentives to regain their business.\n",
    "\n",
    "4. Minimal VIP Segment (0.9%):\n",
    "\n",
    "Implication: Very few customers fall into the VIP category, indicating a potential area for growth.\n",
    "\n",
    "Action: Identify characteristics of these VIP customers and try to replicate these traits in other segments. Consider premium offerings, VIP-exclusive benefits, and personalized experiences to grow this segment."
   ]
  },
  {
   "cell_type": "markdown",
   "id": "5b402e7e",
   "metadata": {},
   "source": [
    "# The heatmap created shows the average Monetary value for each combination of Recency (R) and Frequency (F) scores. \n"
   ]
  },
  {
   "cell_type": "code",
   "execution_count": 73,
   "id": "dad6f93a",
   "metadata": {},
   "outputs": [
    {
     "data": {
      "image/png": "[encoded data removed]",
      "text/plain": [
       "<Figure size 576x576 with 2 Axes>"
      ]
     },
     "metadata": {
      "needs_background": "light"
     },
     "output_type": "display_data"
    }
   ],
   "source": [
    "# Heatmap for R, F, M Scores\n",
    "rfm_heatmap = rfm.pivot_table(index='R_Score', columns='F_Score', values='M_Score', aggfunc='mean')\n",
    "plt.figure(figsize=(8, 8))\n",
    "plt.grid(True)\n",
    "sns.heatmap(rfm_heatmap, annot=True, fmt=\".1f\", cmap=\"YlGnBu\")\n",
    "plt.title('RFM Heatmap')\n",
    "plt.show()\n"
   ]
  },
  {
   "cell_type": "markdown",
   "id": "3c08f12f",
   "metadata": {},
   "source": [
    "# Color Gradient:\n",
    "\n",
    "The color gradient ( from light to dark) indicates the average Monetary score, with darker shades typically representing higher average monetary values.\n",
    "\n",
    "\n",
    "# Key Insights from Heatmap:\n",
    "\n",
    "Top-Right Quadrant (High R and F Scores):\n",
    "\n",
    "Observation: This area have  higher average Monetary values.\n",
    "Implication: Customers who purchase frequently and recently spend the most. These are the  most valuable customers.\n",
    "Action: Focus on retaining these customers with personalized experiences and premium services.\n",
    "\n",
    "\n",
    "Bottom-Left Quadrant (Low R and F Scores):\n",
    "\n",
    "Observation: This area  has lower average Monetary values.\n",
    "Implication: Customers who purchase infrequently and haven't bought recently spend the least.\n",
    "Action: Implement win-back strategies .\n",
    "\n",
    "Middle Areas (Moderate R and F Scores):\n",
    "\n",
    "Observation: These areas show moderate average Monetary values.\n",
    "Implication: These customers are moderately engaged.\n",
    "Action: Develop strategies to move these customers towards higher engagement and spending, potentially converting them to more loyal or even VIP customers."
   ]
  },
  {
   "cell_type": "code",
   "execution_count": 74,
   "id": "f3d4f2e1",
   "metadata": {},
   "outputs": [],
   "source": [
    "# cluster method "
   ]
  },
  {
   "cell_type": "code",
   "execution_count": 75,
   "id": "7a798900",
   "metadata": {},
   "outputs": [],
   "source": [
    "# Step 1: Standardize the data\n",
    "scaler = StandardScaler()\n",
    "rfm_scaled = scaler.fit_transform(rfm[['Recency', 'Frequency', 'Monetary']])\n"
   ]
  },
  {
   "cell_type": "code",
   "execution_count": 76,
   "id": "45ddb9d8",
   "metadata": {},
   "outputs": [],
   "source": [
    "# Step 2: Determine the optimal number of clusters using the Elbow Method\n",
    "sse = []\n",
    "for k in range(1, 11):\n",
    "    kmeans = KMeans(n_clusters=k, random_state=42)\n",
    "    kmeans.fit(rfm_scaled)\n",
    "    sse.append(kmeans.inertia_)"
   ]
  },
  {
   "cell_type": "code",
   "execution_count": 77,
   "id": "66d0fb1c",
   "metadata": {},
   "outputs": [
    {
     "data": {
      "image/png": "[encoded data removed]",
      "text/plain": [
       "<Figure size 720x432 with 1 Axes>"
      ]
     },
     "metadata": {
      "needs_background": "light"
     },
     "output_type": "display_data"
    }
   ],
   "source": [
    "plt.figure(figsize=(10, 6))\n",
    "plt.plot(range(1, 11), sse, marker='o')\n",
    "plt.xlabel('Number of clusters')\n",
    "plt.ylabel('SSE')\n",
    "plt.title('Elbow Method')\n",
    "plt.show()"
   ]
  },
  {
   "cell_type": "code",
   "execution_count": 78,
   "id": "26ac8be9",
   "metadata": {},
   "outputs": [],
   "source": [
    "# Based on the Elbow plot, choose the optimal number of clusters (let's say 4 for this example)\n",
    "optimal_clusters = 4"
   ]
  },
  {
   "cell_type": "code",
   "execution_count": 79,
   "id": "2a8aab64",
   "metadata": {},
   "outputs": [],
   "source": [
    "# Step 3: Apply K-Means with the optimal number of clusters\n",
    "kmeans = KMeans(n_clusters=optimal_clusters, random_state=42)\n",
    "rfm['Cluster'] = kmeans.fit_predict(rfm_scaled)"
   ]
  },
  {
   "cell_type": "code",
   "execution_count": 80,
   "id": "232ba4a4",
   "metadata": {},
   "outputs": [
    {
     "name": "stdout",
     "output_type": "stream",
     "text": [
      "      Recency  Frequency       Monetary\n",
      "0   17.124402  22.019139   12546.983206\n",
      "1   13.615385  82.538462  127338.313846\n",
      "2  267.569495   1.551444     498.987835\n",
      "3   52.297207   3.702793    1356.652863\n"
     ]
    }
   ],
   "source": [
    "# Step 4: Interpret the clusters\n",
    "cluster_centers = pd.DataFrame(scaler.inverse_transform(kmeans.cluster_centers_), columns=['Recency', 'Frequency', 'Monetary'])\n",
    "print(cluster_centers)"
   ]
  },
  {
   "cell_type": "code",
   "execution_count": 81,
   "id": "a5b068e6",
   "metadata": {},
   "outputs": [
    {
     "data": {
      "image/png": "[encoded data removed]",
      "text/plain": [
       "<Figure size 432x288 with 1 Axes>"
      ]
     },
     "metadata": {
      "needs_background": "light"
     },
     "output_type": "display_data"
    }
   ],
   "source": [
    "# Visualize the clusters\n",
    "sns.scatterplot(data=rfm, x='Recency', y='Frequency', hue='Cluster', palette='viridis')\n",
    "plt.title('Customer Segments')\n",
    "plt.grid(True)\n",
    "plt.show()"
   ]
  },
  {
   "cell_type": "code",
   "execution_count": 82,
   "id": "66cfa8ab",
   "metadata": {},
   "outputs": [
    {
     "data": {
      "image/png": "[encoded data removed]",
      "text/plain": [
       "<Figure size 432x288 with 1 Axes>"
      ]
     },
     "metadata": {
      "needs_background": "light"
     },
     "output_type": "display_data"
    }
   ],
   "source": [
    "sns.boxplot(data=rfm, x='Cluster', y='Recency')\n",
    "plt.title('Recency by Cluster')\n",
    "plt.grid(True)\n",
    "plt.show()\n"
   ]
  },
  {
   "cell_type": "code",
   "execution_count": 83,
   "id": "614ca731",
   "metadata": {},
   "outputs": [
    {
     "data": {
      "image/png": "[encoded data removed]",
      "text/plain": [
       "<Figure size 432x288 with 1 Axes>"
      ]
     },
     "metadata": {
      "needs_background": "light"
     },
     "output_type": "display_data"
    }
   ],
   "source": [
    "sns.boxplot(data=rfm, x='Cluster', y='Frequency')\n",
    "plt.title('Frequency by Cluster')\n",
    "plt.grid(True)\n",
    "plt.show()"
   ]
  },
  {
   "cell_type": "code",
   "execution_count": 84,
   "id": "d92a76b9",
   "metadata": {},
   "outputs": [
    {
     "data": {
      "image/png": "[encoded data removed]",
      "text/plain": [
       "<Figure size 432x288 with 1 Axes>"
      ]
     },
     "metadata": {
      "needs_background": "light"
     },
     "output_type": "display_data"
    }
   ],
   "source": [
    "sns.boxplot(data=rfm, x='Cluster', y='Monetary')\n",
    "plt.title('Monetary by Cluster')\n",
    "plt.grid(True)\n",
    "plt.show()"
   ]
  },
  {
   "cell_type": "markdown",
   "id": "acef3d1a",
   "metadata": {},
   "source": [
    "Cluster Analysis\n",
    "Cluster 0:\n",
    "\n",
    "Recency: 17.12 days (recent activity)\n",
    "Frequency: 22.02 purchases (moderately frequent)\n",
    "Monetary: $12,546.98 (moderate spenders)\n",
    "Interpretation: These customers have relatively recent activity and make purchases moderately often, with a decent spending amount. They could be considered potential loyal customers.\n",
    "Cluster 1:\n",
    "\n",
    "Recency: 52.26 days (not very recent)\n",
    "Frequency: 3.70 purchases (low frequency)\n",
    "Monetary: $1,356.20 (low spenders)\n",
    "Interpretation: These customers have somewhat recent activity but do not purchase often and spend relatively little. They might be at risk of churning.\n",
    "Cluster 2:\n",
    "\n",
    "Recency: 267.57 days (very old activity)\n",
    "Frequency: 1.55 purchases (very low frequency)\n",
    "Monetary: $498.99 (very low spenders)\n",
    "Interpretation: These customers have not made purchases in a long time, buy very infrequently, and spend very little. They are likely lost customers.\n",
    "Cluster 3:\n",
    "\n",
    "Recency: 13.62 days (very recent activity)\n",
    "Frequency: 82.69 purchases (high frequency)\n",
    "Monetary: $127,338.31 (very high spenders)\n",
    "Interpretation: These customers have very recent activity, purchase very frequently, and spend a lot of money. They can be classified as VIP customers.\n",
    "Key Insights and Recommendations\n",
    "VIP Customers (Cluster 3):\n",
    "\n",
    "These customers are highly engaged, make frequent purchases, and contribute significantly to revenue.\n",
    "Strategy: Focus on retention strategies such as personalized offers, exclusive deals, and loyalty programs to maintain and enhance their loyalty.\n",
    "Potential Loyal Customers (Cluster 0):\n",
    "\n",
    "These customers are moderately engaged and spend a decent amount.\n",
    "Strategy: Encourage them to become VIP customers by offering incentives for more frequent purchases and higher spending. Personalized recommendations and special promotions could be effective.\n",
    "At-Risk Customers (Cluster 1):\n",
    "\n",
    "These customers are not very engaged and spend relatively little.\n",
    "Strategy: Re-engage them with targeted marketing campaigns, discounts, and reminders of the value they can get from your products or services. Understanding their needs and addressing any issues they might have can also help.\n",
    "Lost Customers (Cluster 2):\n",
    "\n",
    "These customers are likely to have churned.\n",
    "Strategy: It might be challenging to re-engage these customers, but sending win-back campaigns with strong incentives or asking for feedback to understand why they stopped purchasing could provide some insights and potentially bring some back."
   ]
  },
  {
   "cell_type": "code",
   "execution_count": null,
   "id": "5a492e77",
   "metadata": {},
   "outputs": [],
   "source": []
  }
 ],
 "metadata": {
  "kernelspec": {
   "display_name": "Python 3 (ipykernel)",
   "language": "python",
   "name": "python3"
  },
  "language_info": {
   "codemirror_mode": {
    "name": "ipython",
    "version": 3
   },
   "file_extension": ".py",
   "mimetype": "text/x-python",
   "name": "python",
   "nbconvert_exporter": "python",
   "pygments_lexer": "ipython3",
   "version": "3.7.4"
  }
 },
 "nbformat": 4,
 "nbformat_minor": 5
}
